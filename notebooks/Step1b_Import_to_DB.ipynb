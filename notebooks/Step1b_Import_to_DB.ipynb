{
 "cells": [
  {
   "cell_type": "markdown",
   "metadata": {},
   "source": [
    "## NOTEBOOK: Creating a Postgresql database locally and importing the dataset"
   ]
  },
  {
   "cell_type": "markdown",
   "metadata": {},
   "source": [
    "Import libraries"
   ]
  },
  {
   "cell_type": "code",
   "execution_count": 28,
   "metadata": {},
   "outputs": [],
   "source": [
    "import pandas as pd\n",
    "from psycopg2 import connect\n",
    "from psycopg2.extensions import ISOLATION_LEVEL_AUTOCOMMIT"
   ]
  },
  {
   "cell_type": "markdown",
   "metadata": {},
   "source": [
    "Use ipython-sql to run sql on jupyter notebook"
   ]
  },
  {
   "cell_type": "code",
   "execution_count": 1,
   "metadata": {},
   "outputs": [],
   "source": [
    "%load_ext sql"
   ]
  },
  {
   "cell_type": "markdown",
   "metadata": {},
   "source": [
    "### Importing CSV into PostgreSQL\n",
    "- Use [csvkit](https://csvkit.readthedocs.io/en/1.0.3/) to convert csv into postgresql"
   ]
  },
  {
   "cell_type": "code",
   "execution_count": 11,
   "metadata": {},
   "outputs": [
    {
     "name": "stdout",
     "output_type": "stream",
     "text": [
      "(psycopg2.ProgrammingError) relation \"ehresp_2014\" already exists\n",
      " [SQL: '\\nCREATE TABLE ehresp_2014 (\\n\\ttucaseid DECIMAL NOT NULL, \\n\\ttulineno BOOLEAN NOT NULL, \\n\\teeincome1 DECIMAL NOT NULL, \\n\\terbmi DECIMAL NOT NULL, \\n\\terhhch DECIMAL NOT NULL, \\n\\terincome DECIMAL NOT NULL, \\n\\terspemch DECIMAL NOT NULL, \\n\\tertpreat DECIMAL NOT NULL, \\n\\tertseat DECIMAL NOT NULL, \\n\\tethgt DECIMAL NOT NULL, \\n\\tetwgt DECIMAL NOT NULL, \\n\\teudietsoda DECIMAL NOT NULL, \\n\\teudrink DECIMAL NOT NULL, \\n\\teueat DECIMAL NOT NULL, \\n\\teuexercise DECIMAL NOT NULL, \\n\\teuexfreq DECIMAL NOT NULL, \\n\\teufastfd DECIMAL NOT NULL, \\n\\teufastfdfrq DECIMAL NOT NULL, \\n\\teuffyday DECIMAL NOT NULL, \\n\\teufdsit DECIMAL NOT NULL, \\n\\teufinlwgt DECIMAL NOT NULL, \\n\\teusnap DECIMAL NOT NULL, \\n\\teugenhth DECIMAL NOT NULL, \\n\\teugroshp DECIMAL NOT NULL, \\n\\teuhgt DECIMAL NOT NULL, \\n\\teuinclvl DECIMAL NOT NULL, \\n\\teuincome2 DECIMAL NOT NULL, \\n\\teumeat DECIMAL NOT NULL, \\n\\teumilk DECIMAL NOT NULL, \\n\\teuprpmel DECIMAL NOT NULL, \\n\\teusoda DECIMAL NOT NULL, \\n\\teustores DECIMAL NOT NULL, \\n\\teustreason DECIMAL NOT NULL, \\n\\teutherm DECIMAL NOT NULL, \\n\\teuwgt DECIMAL NOT NULL, \\n\\teuwic DECIMAL NOT NULL, \\n\\texincome1 DECIMAL NOT NULL\\n)\\n\\n'] (Background on this error at: http://sqlalche.me/e/f405)\n"
     ]
    }
   ],
   "source": [
    "!csvsql --db postgresql:///postgres --insert ../data/raw/ehresp_2014.csv"
   ]
  },
  {
   "cell_type": "markdown",
   "metadata": {},
   "source": [
    "### Connecting to the database"
   ]
  },
  {
   "cell_type": "code",
   "execution_count": 2,
   "metadata": {},
   "outputs": [
    {
     "data": {
      "text/plain": [
       "'Connected: @postgres'"
      ]
     },
     "execution_count": 2,
     "metadata": {},
     "output_type": "execute_result"
    }
   ],
   "source": [
    "%sql postgresql://localhost/postgres"
   ]
  },
  {
   "cell_type": "markdown",
   "metadata": {},
   "source": [
    "### Explore Table"
   ]
  },
  {
   "cell_type": "code",
   "execution_count": 6,
   "metadata": {},
   "outputs": [
    {
     "name": "stdout",
     "output_type": "stream",
     "text": [
      " * postgresql://localhost/postgres\n",
      "5 rows affected.\n"
     ]
    },
    {
     "data": {
      "text/html": [
       "<table>\n",
       "    <tr>\n",
       "        <th>tucaseid</th>\n",
       "        <th>tulineno</th>\n",
       "        <th>eeincome1</th>\n",
       "        <th>erbmi</th>\n",
       "        <th>erhhch</th>\n",
       "        <th>erincome</th>\n",
       "        <th>erspemch</th>\n",
       "        <th>ertpreat</th>\n",
       "        <th>ertseat</th>\n",
       "        <th>ethgt</th>\n",
       "        <th>etwgt</th>\n",
       "        <th>eudietsoda</th>\n",
       "        <th>eudrink</th>\n",
       "        <th>eueat</th>\n",
       "        <th>euexercise</th>\n",
       "        <th>euexfreq</th>\n",
       "        <th>eufastfd</th>\n",
       "        <th>eufastfdfrq</th>\n",
       "        <th>euffyday</th>\n",
       "        <th>eufdsit</th>\n",
       "        <th>eufinlwgt</th>\n",
       "        <th>eusnap</th>\n",
       "        <th>eugenhth</th>\n",
       "        <th>eugroshp</th>\n",
       "        <th>euhgt</th>\n",
       "        <th>euinclvl</th>\n",
       "        <th>euincome2</th>\n",
       "        <th>eumeat</th>\n",
       "        <th>eumilk</th>\n",
       "        <th>euprpmel</th>\n",
       "        <th>eusoda</th>\n",
       "        <th>eustores</th>\n",
       "        <th>eustreason</th>\n",
       "        <th>eutherm</th>\n",
       "        <th>euwgt</th>\n",
       "        <th>euwic</th>\n",
       "        <th>exincome1</th>\n",
       "    </tr>\n",
       "    <tr>\n",
       "        <td>20140101140007</td>\n",
       "        <td>True</td>\n",
       "        <td>-2</td>\n",
       "        <td>33.200001</td>\n",
       "        <td>1</td>\n",
       "        <td>-1</td>\n",
       "        <td>-1</td>\n",
       "        <td>30</td>\n",
       "        <td>2</td>\n",
       "        <td>0</td>\n",
       "        <td>0</td>\n",
       "        <td>-1</td>\n",
       "        <td>2</td>\n",
       "        <td>1</td>\n",
       "        <td>2</td>\n",
       "        <td>-1</td>\n",
       "        <td>2</td>\n",
       "        <td>-1</td>\n",
       "        <td>-1</td>\n",
       "        <td>1</td>\n",
       "        <td>5202086</td>\n",
       "        <td>1</td>\n",
       "        <td>1</td>\n",
       "        <td>1</td>\n",
       "        <td>60</td>\n",
       "        <td>5</td>\n",
       "        <td>-2</td>\n",
       "        <td>1</td>\n",
       "        <td>2</td>\n",
       "        <td>1</td>\n",
       "        <td>-1</td>\n",
       "        <td>2</td>\n",
       "        <td>1</td>\n",
       "        <td>2</td>\n",
       "        <td>170</td>\n",
       "        <td>1</td>\n",
       "        <td>2</td>\n",
       "    </tr>\n",
       "    <tr>\n",
       "        <td>20140101140011</td>\n",
       "        <td>True</td>\n",
       "        <td>1</td>\n",
       "        <td>22.700001</td>\n",
       "        <td>3</td>\n",
       "        <td>1</td>\n",
       "        <td>-1</td>\n",
       "        <td>45</td>\n",
       "        <td>14</td>\n",
       "        <td>0</td>\n",
       "        <td>0</td>\n",
       "        <td>-1</td>\n",
       "        <td>2</td>\n",
       "        <td>1</td>\n",
       "        <td>2</td>\n",
       "        <td>-1</td>\n",
       "        <td>1</td>\n",
       "        <td>1</td>\n",
       "        <td>2</td>\n",
       "        <td>1</td>\n",
       "        <td>29400000</td>\n",
       "        <td>2</td>\n",
       "        <td>2</td>\n",
       "        <td>3</td>\n",
       "        <td>63</td>\n",
       "        <td>5</td>\n",
       "        <td>-1</td>\n",
       "        <td>1</td>\n",
       "        <td>2</td>\n",
       "        <td>1</td>\n",
       "        <td>-1</td>\n",
       "        <td>1</td>\n",
       "        <td>2</td>\n",
       "        <td>2</td>\n",
       "        <td>128</td>\n",
       "        <td>2</td>\n",
       "        <td>0</td>\n",
       "    </tr>\n",
       "    <tr>\n",
       "        <td>20140101140028</td>\n",
       "        <td>True</td>\n",
       "        <td>2</td>\n",
       "        <td>49.400002</td>\n",
       "        <td>3</td>\n",
       "        <td>5</td>\n",
       "        <td>-1</td>\n",
       "        <td>60</td>\n",
       "        <td>0</td>\n",
       "        <td>0</td>\n",
       "        <td>0</td>\n",
       "        <td>-1</td>\n",
       "        <td>1</td>\n",
       "        <td>2</td>\n",
       "        <td>2</td>\n",
       "        <td>-1</td>\n",
       "        <td>2</td>\n",
       "        <td>-1</td>\n",
       "        <td>-1</td>\n",
       "        <td>1</td>\n",
       "        <td>26000000</td>\n",
       "        <td>2</td>\n",
       "        <td>5</td>\n",
       "        <td>2</td>\n",
       "        <td>62</td>\n",
       "        <td>5</td>\n",
       "        <td>2</td>\n",
       "        <td>-1</td>\n",
       "        <td>-1</td>\n",
       "        <td>2</td>\n",
       "        <td>2</td>\n",
       "        <td>-1</td>\n",
       "        <td>-1</td>\n",
       "        <td>-1</td>\n",
       "        <td>270</td>\n",
       "        <td>2</td>\n",
       "        <td>12</td>\n",
       "    </tr>\n",
       "    <tr>\n",
       "        <td>20140101140063</td>\n",
       "        <td>True</td>\n",
       "        <td>-2</td>\n",
       "        <td>-1</td>\n",
       "        <td>3</td>\n",
       "        <td>-1</td>\n",
       "        <td>-1</td>\n",
       "        <td>0</td>\n",
       "        <td>0</td>\n",
       "        <td>0</td>\n",
       "        <td>-1</td>\n",
       "        <td>2</td>\n",
       "        <td>1</td>\n",
       "        <td>2</td>\n",
       "        <td>2</td>\n",
       "        <td>-1</td>\n",
       "        <td>2</td>\n",
       "        <td>-1</td>\n",
       "        <td>-1</td>\n",
       "        <td>1</td>\n",
       "        <td>2728880</td>\n",
       "        <td>2</td>\n",
       "        <td>2</td>\n",
       "        <td>1</td>\n",
       "        <td>64</td>\n",
       "        <td>5</td>\n",
       "        <td>-2</td>\n",
       "        <td>2</td>\n",
       "        <td>2</td>\n",
       "        <td>1</td>\n",
       "        <td>1</td>\n",
       "        <td>2</td>\n",
       "        <td>6</td>\n",
       "        <td>-1</td>\n",
       "        <td>-2</td>\n",
       "        <td>2</td>\n",
       "        <td>2</td>\n",
       "    </tr>\n",
       "    <tr>\n",
       "        <td>20140101140168</td>\n",
       "        <td>True</td>\n",
       "        <td>2</td>\n",
       "        <td>31</td>\n",
       "        <td>3</td>\n",
       "        <td>5</td>\n",
       "        <td>-1</td>\n",
       "        <td>65</td>\n",
       "        <td>0</td>\n",
       "        <td>0</td>\n",
       "        <td>0</td>\n",
       "        <td>-1</td>\n",
       "        <td>1</td>\n",
       "        <td>2</td>\n",
       "        <td>1</td>\n",
       "        <td>5</td>\n",
       "        <td>2</td>\n",
       "        <td>-1</td>\n",
       "        <td>-1</td>\n",
       "        <td>1</td>\n",
       "        <td>17500000</td>\n",
       "        <td>1</td>\n",
       "        <td>4</td>\n",
       "        <td>1</td>\n",
       "        <td>69</td>\n",
       "        <td>5</td>\n",
       "        <td>2</td>\n",
       "        <td>1</td>\n",
       "        <td>2</td>\n",
       "        <td>1</td>\n",
       "        <td>2</td>\n",
       "        <td>1</td>\n",
       "        <td>1</td>\n",
       "        <td>2</td>\n",
       "        <td>210</td>\n",
       "        <td>1</td>\n",
       "        <td>0</td>\n",
       "    </tr>\n",
       "</table>"
      ],
      "text/plain": [
       "[(Decimal('20140101140007'), True, Decimal('-2'), Decimal('33.200001'), Decimal('1'), Decimal('-1'), Decimal('-1'), Decimal('30'), Decimal('2'), Decimal('0'), Decimal('0'), Decimal('-1'), Decimal('2'), Decimal('1'), Decimal('2'), Decimal('-1'), Decimal('2'), Decimal('-1'), Decimal('-1'), Decimal('1'), Decimal('5202086'), Decimal('1'), Decimal('1'), Decimal('1'), Decimal('60'), Decimal('5'), Decimal('-2'), Decimal('1'), Decimal('2'), Decimal('1'), Decimal('-1'), Decimal('2'), Decimal('1'), Decimal('2'), Decimal('170'), Decimal('1'), Decimal('2')),\n",
       " (Decimal('20140101140011'), True, Decimal('1'), Decimal('22.700001'), Decimal('3'), Decimal('1'), Decimal('-1'), Decimal('45'), Decimal('14'), Decimal('0'), Decimal('0'), Decimal('-1'), Decimal('2'), Decimal('1'), Decimal('2'), Decimal('-1'), Decimal('1'), Decimal('1'), Decimal('2'), Decimal('1'), Decimal('29400000'), Decimal('2'), Decimal('2'), Decimal('3'), Decimal('63'), Decimal('5'), Decimal('-1'), Decimal('1'), Decimal('2'), Decimal('1'), Decimal('-1'), Decimal('1'), Decimal('2'), Decimal('2'), Decimal('128'), Decimal('2'), Decimal('0')),\n",
       " (Decimal('20140101140028'), True, Decimal('2'), Decimal('49.400002'), Decimal('3'), Decimal('5'), Decimal('-1'), Decimal('60'), Decimal('0'), Decimal('0'), Decimal('0'), Decimal('-1'), Decimal('1'), Decimal('2'), Decimal('2'), Decimal('-1'), Decimal('2'), Decimal('-1'), Decimal('-1'), Decimal('1'), Decimal('26000000'), Decimal('2'), Decimal('5'), Decimal('2'), Decimal('62'), Decimal('5'), Decimal('2'), Decimal('-1'), Decimal('-1'), Decimal('2'), Decimal('2'), Decimal('-1'), Decimal('-1'), Decimal('-1'), Decimal('270'), Decimal('2'), Decimal('12')),\n",
       " (Decimal('20140101140063'), True, Decimal('-2'), Decimal('-1'), Decimal('3'), Decimal('-1'), Decimal('-1'), Decimal('0'), Decimal('0'), Decimal('0'), Decimal('-1'), Decimal('2'), Decimal('1'), Decimal('2'), Decimal('2'), Decimal('-1'), Decimal('2'), Decimal('-1'), Decimal('-1'), Decimal('1'), Decimal('2728880'), Decimal('2'), Decimal('2'), Decimal('1'), Decimal('64'), Decimal('5'), Decimal('-2'), Decimal('2'), Decimal('2'), Decimal('1'), Decimal('1'), Decimal('2'), Decimal('6'), Decimal('-1'), Decimal('-2'), Decimal('2'), Decimal('2')),\n",
       " (Decimal('20140101140168'), True, Decimal('2'), Decimal('31'), Decimal('3'), Decimal('5'), Decimal('-1'), Decimal('65'), Decimal('0'), Decimal('0'), Decimal('0'), Decimal('-1'), Decimal('1'), Decimal('2'), Decimal('1'), Decimal('5'), Decimal('2'), Decimal('-1'), Decimal('-1'), Decimal('1'), Decimal('17500000'), Decimal('1'), Decimal('4'), Decimal('1'), Decimal('69'), Decimal('5'), Decimal('2'), Decimal('1'), Decimal('2'), Decimal('1'), Decimal('2'), Decimal('1'), Decimal('1'), Decimal('2'), Decimal('210'), Decimal('1'), Decimal('0'))]"
      ]
     },
     "execution_count": 6,
     "metadata": {},
     "output_type": "execute_result"
    }
   ],
   "source": [
    "%%sql \n",
    "SELECT\n",
    "    * \n",
    "FROM ehresp_2014 \n",
    "    LIMIT 5;"
   ]
  },
  {
   "cell_type": "markdown",
   "metadata": {},
   "source": [
    "How many people have weight>200 lbs?"
   ]
  },
  {
   "cell_type": "code",
   "execution_count": 36,
   "metadata": {},
   "outputs": [
    {
     "name": "stdout",
     "output_type": "stream",
     "text": [
      " * postgresql://localhost/postgres\n",
      "1 rows affected.\n"
     ]
    },
    {
     "data": {
      "text/html": [
       "<table>\n",
       "    <tr>\n",
       "        <th>count</th>\n",
       "    </tr>\n",
       "    <tr>\n",
       "        <td>2500</td>\n",
       "    </tr>\n",
       "</table>"
      ],
      "text/plain": [
       "[(2500,)]"
      ]
     },
     "execution_count": 36,
     "metadata": {},
     "output_type": "execute_result"
    }
   ],
   "source": [
    "%%sql\n",
    "SELECT \n",
    "    COUNT(tucaseid)\n",
    "FROM ehresp_2014\n",
    "    WHERE euwgt>200;\n"
   ]
  },
  {
   "cell_type": "markdown",
   "metadata": {},
   "source": [
    "How many people have >30 bmi, or OBESE"
   ]
  },
  {
   "cell_type": "code",
   "execution_count": 37,
   "metadata": {},
   "outputs": [
    {
     "name": "stdout",
     "output_type": "stream",
     "text": [
      " * postgresql://localhost/postgres\n",
      "1 rows affected.\n"
     ]
    },
    {
     "data": {
      "text/html": [
       "<table>\n",
       "    <tr>\n",
       "        <th>count</th>\n",
       "    </tr>\n",
       "    <tr>\n",
       "        <td>3040</td>\n",
       "    </tr>\n",
       "</table>"
      ],
      "text/plain": [
       "[(3040,)]"
      ]
     },
     "execution_count": 37,
     "metadata": {},
     "output_type": "execute_result"
    }
   ],
   "source": [
    "%%sql\n",
    "SELECT \n",
    "    COUNT(tucaseid)\n",
    "FROM ehresp_2014\n",
    "    WHERE erbmi > 30;\n"
   ]
  },
  {
   "cell_type": "markdown",
   "metadata": {},
   "source": [
    "How many people have <30 bmi, or NOT OBESE"
   ]
  },
  {
   "cell_type": "code",
   "execution_count": 38,
   "metadata": {},
   "outputs": [
    {
     "name": "stdout",
     "output_type": "stream",
     "text": [
      " * postgresql://localhost/postgres\n",
      "1 rows affected.\n"
     ]
    },
    {
     "data": {
      "text/html": [
       "<table>\n",
       "    <tr>\n",
       "        <th>count</th>\n",
       "    </tr>\n",
       "    <tr>\n",
       "        <td>8084</td>\n",
       "    </tr>\n",
       "</table>"
      ],
      "text/plain": [
       "[(8084,)]"
      ]
     },
     "execution_count": 38,
     "metadata": {},
     "output_type": "execute_result"
    }
   ],
   "source": [
    "%%sql\n",
    "SELECT \n",
    "    COUNT(tucaseid)\n",
    "FROM ehresp_2014\n",
    "    WHERE erbmi < 30;\n"
   ]
  },
  {
   "cell_type": "markdown",
   "metadata": {},
   "source": [
    "Any negative answers? \n",
    "- blanks (-1)\n",
    "- don't know (-2)\n",
    "- refused to answer (-3_"
   ]
  },
  {
   "cell_type": "markdown",
   "metadata": {},
   "source": [
    "How many people don't exercise and are obese?"
   ]
  },
  {
   "cell_type": "code",
   "execution_count": 42,
   "metadata": {},
   "outputs": [
    {
     "name": "stdout",
     "output_type": "stream",
     "text": [
      " * postgresql://localhost/postgres\n",
      "1 rows affected.\n"
     ]
    },
    {
     "data": {
      "text/html": [
       "<table>\n",
       "    <tr>\n",
       "        <th>count</th>\n",
       "    </tr>\n",
       "    <tr>\n",
       "        <td>1390</td>\n",
       "    </tr>\n",
       "</table>"
      ],
      "text/plain": [
       "[(1390,)]"
      ]
     },
     "execution_count": 42,
     "metadata": {},
     "output_type": "execute_result"
    }
   ],
   "source": [
    "%%sql\n",
    "SELECT \n",
    "    COUNT(tucaseid)\n",
    "FROM ehresp_2014\n",
    "    WHERE (euexfreq<0 AND erbmi>30);"
   ]
  },
  {
   "cell_type": "markdown",
   "metadata": {},
   "source": [
    "How many people exercise and yet still obese?"
   ]
  },
  {
   "cell_type": "code",
   "execution_count": 41,
   "metadata": {},
   "outputs": [
    {
     "name": "stdout",
     "output_type": "stream",
     "text": [
      " * postgresql://localhost/postgres\n",
      "1 rows affected.\n"
     ]
    },
    {
     "data": {
      "text/html": [
       "<table>\n",
       "    <tr>\n",
       "        <th>count</th>\n",
       "    </tr>\n",
       "    <tr>\n",
       "        <td>1650</td>\n",
       "    </tr>\n",
       "</table>"
      ],
      "text/plain": [
       "[(1650,)]"
      ]
     },
     "execution_count": 41,
     "metadata": {},
     "output_type": "execute_result"
    }
   ],
   "source": [
    "%%sql\n",
    "SELECT\n",
    "    COUNT(tucaseid)\n",
    "FROM ehresp_2014\n",
    "    WHERE (euexfreq>0 AND erbmi>30);"
   ]
  },
  {
   "cell_type": "markdown",
   "metadata": {},
   "source": [
    "Locate people who order takeouts/order fastfood and obese, ordered by weight "
   ]
  },
  {
   "cell_type": "code",
   "execution_count": 44,
   "metadata": {},
   "outputs": [
    {
     "name": "stdout",
     "output_type": "stream",
     "text": [
      " * postgresql://localhost/postgres\n",
      "8 rows affected.\n"
     ]
    },
    {
     "data": {
      "text/html": [
       "<table>\n",
       "    <tr>\n",
       "        <th>tucaseid</th>\n",
       "        <th>tulineno</th>\n",
       "        <th>eeincome1</th>\n",
       "        <th>erbmi</th>\n",
       "        <th>erhhch</th>\n",
       "        <th>erincome</th>\n",
       "        <th>erspemch</th>\n",
       "        <th>ertpreat</th>\n",
       "        <th>ertseat</th>\n",
       "        <th>ethgt</th>\n",
       "        <th>etwgt</th>\n",
       "        <th>eudietsoda</th>\n",
       "        <th>eudrink</th>\n",
       "        <th>eueat</th>\n",
       "        <th>euexercise</th>\n",
       "        <th>euexfreq</th>\n",
       "        <th>eufastfd</th>\n",
       "        <th>eufastfdfrq</th>\n",
       "        <th>euffyday</th>\n",
       "        <th>eufdsit</th>\n",
       "        <th>eufinlwgt</th>\n",
       "        <th>eusnap</th>\n",
       "        <th>eugenhth</th>\n",
       "        <th>eugroshp</th>\n",
       "        <th>euhgt</th>\n",
       "        <th>euinclvl</th>\n",
       "        <th>euincome2</th>\n",
       "        <th>eumeat</th>\n",
       "        <th>eumilk</th>\n",
       "        <th>euprpmel</th>\n",
       "        <th>eusoda</th>\n",
       "        <th>eustores</th>\n",
       "        <th>eustreason</th>\n",
       "        <th>eutherm</th>\n",
       "        <th>euwgt</th>\n",
       "        <th>euwic</th>\n",
       "        <th>exincome1</th>\n",
       "    </tr>\n",
       "    <tr>\n",
       "        <td>20140403140670</td>\n",
       "        <td>True</td>\n",
       "        <td>2</td>\n",
       "        <td>43.599998</td>\n",
       "        <td>1</td>\n",
       "        <td>3</td>\n",
       "        <td>5</td>\n",
       "        <td>60</td>\n",
       "        <td>30</td>\n",
       "        <td>0</td>\n",
       "        <td>1</td>\n",
       "        <td>2</td>\n",
       "        <td>1</td>\n",
       "        <td>1</td>\n",
       "        <td>2</td>\n",
       "        <td>-1</td>\n",
       "        <td>1</td>\n",
       "        <td>15</td>\n",
       "        <td>1</td>\n",
       "        <td>1</td>\n",
       "        <td>4300922</td>\n",
       "        <td>2</td>\n",
       "        <td>3</td>\n",
       "        <td>2</td>\n",
       "        <td>74</td>\n",
       "        <td>5</td>\n",
       "        <td>1</td>\n",
       "        <td>-1</td>\n",
       "        <td>-1</td>\n",
       "        <td>2</td>\n",
       "        <td>1</td>\n",
       "        <td>-1</td>\n",
       "        <td>-1</td>\n",
       "        <td>-1</td>\n",
       "        <td>340</td>\n",
       "        <td>1</td>\n",
       "        <td>0</td>\n",
       "    </tr>\n",
       "    <tr>\n",
       "        <td>20140403140731</td>\n",
       "        <td>True</td>\n",
       "        <td>1</td>\n",
       "        <td>53.200001</td>\n",
       "        <td>3</td>\n",
       "        <td>1</td>\n",
       "        <td>-1</td>\n",
       "        <td>45</td>\n",
       "        <td>15</td>\n",
       "        <td>0</td>\n",
       "        <td>1</td>\n",
       "        <td>-1</td>\n",
       "        <td>1</td>\n",
       "        <td>1</td>\n",
       "        <td>2</td>\n",
       "        <td>-1</td>\n",
       "        <td>1</td>\n",
       "        <td>3</td>\n",
       "        <td>2</td>\n",
       "        <td>1</td>\n",
       "        <td>3230588</td>\n",
       "        <td>1</td>\n",
       "        <td>3</td>\n",
       "        <td>1</td>\n",
       "        <td>67</td>\n",
       "        <td>5</td>\n",
       "        <td>-1</td>\n",
       "        <td>1</td>\n",
       "        <td>2</td>\n",
       "        <td>1</td>\n",
       "        <td>2</td>\n",
       "        <td>3</td>\n",
       "        <td>1</td>\n",
       "        <td>2</td>\n",
       "        <td>340</td>\n",
       "        <td>2</td>\n",
       "        <td>0</td>\n",
       "    </tr>\n",
       "    <tr>\n",
       "        <td>20140302142086</td>\n",
       "        <td>True</td>\n",
       "        <td>2</td>\n",
       "        <td>46.099998</td>\n",
       "        <td>3</td>\n",
       "        <td>5</td>\n",
       "        <td>-1</td>\n",
       "        <td>30</td>\n",
       "        <td>0</td>\n",
       "        <td>0</td>\n",
       "        <td>0</td>\n",
       "        <td>-1</td>\n",
       "        <td>2</td>\n",
       "        <td>2</td>\n",
       "        <td>2</td>\n",
       "        <td>-1</td>\n",
       "        <td>1</td>\n",
       "        <td>1</td>\n",
       "        <td>2</td>\n",
       "        <td>1</td>\n",
       "        <td>2508998</td>\n",
       "        <td>2</td>\n",
       "        <td>4</td>\n",
       "        <td>1</td>\n",
       "        <td>72</td>\n",
       "        <td>5</td>\n",
       "        <td>2</td>\n",
       "        <td>1</td>\n",
       "        <td>2</td>\n",
       "        <td>1</td>\n",
       "        <td>-1</td>\n",
       "        <td>1</td>\n",
       "        <td>6</td>\n",
       "        <td>2</td>\n",
       "        <td>340</td>\n",
       "        <td>-1</td>\n",
       "        <td>0</td>\n",
       "    </tr>\n",
       "    <tr>\n",
       "        <td>20140301141057</td>\n",
       "        <td>True</td>\n",
       "        <td>1</td>\n",
       "        <td>73.599998</td>\n",
       "        <td>3</td>\n",
       "        <td>1</td>\n",
       "        <td>5</td>\n",
       "        <td>55</td>\n",
       "        <td>0</td>\n",
       "        <td>0</td>\n",
       "        <td>1</td>\n",
       "        <td>-1</td>\n",
       "        <td>2</td>\n",
       "        <td>2</td>\n",
       "        <td>1</td>\n",
       "        <td>4</td>\n",
       "        <td>1</td>\n",
       "        <td>1</td>\n",
       "        <td>2</td>\n",
       "        <td>1</td>\n",
       "        <td>5869593</td>\n",
       "        <td>2</td>\n",
       "        <td>2</td>\n",
       "        <td>1</td>\n",
       "        <td>57</td>\n",
       "        <td>5</td>\n",
       "        <td>-1</td>\n",
       "        <td>1</td>\n",
       "        <td>2</td>\n",
       "        <td>1</td>\n",
       "        <td>-1</td>\n",
       "        <td>1</td>\n",
       "        <td>1</td>\n",
       "        <td>2</td>\n",
       "        <td>340</td>\n",
       "        <td>1</td>\n",
       "        <td>0</td>\n",
       "    </tr>\n",
       "    <tr>\n",
       "        <td>20140302141278</td>\n",
       "        <td>True</td>\n",
       "        <td>2</td>\n",
       "        <td>47.400002</td>\n",
       "        <td>3</td>\n",
       "        <td>3</td>\n",
       "        <td>5</td>\n",
       "        <td>45</td>\n",
       "        <td>10</td>\n",
       "        <td>0</td>\n",
       "        <td>1</td>\n",
       "        <td>-1</td>\n",
       "        <td>2</td>\n",
       "        <td>1</td>\n",
       "        <td>2</td>\n",
       "        <td>-1</td>\n",
       "        <td>1</td>\n",
       "        <td>3</td>\n",
       "        <td>1</td>\n",
       "        <td>1</td>\n",
       "        <td>13500000</td>\n",
       "        <td>2</td>\n",
       "        <td>3</td>\n",
       "        <td>2</td>\n",
       "        <td>71</td>\n",
       "        <td>5</td>\n",
       "        <td>1</td>\n",
       "        <td>1</td>\n",
       "        <td>2</td>\n",
       "        <td>1</td>\n",
       "        <td>-1</td>\n",
       "        <td>-1</td>\n",
       "        <td>-1</td>\n",
       "        <td>2</td>\n",
       "        <td>340</td>\n",
       "        <td>2</td>\n",
       "        <td>0</td>\n",
       "    </tr>\n",
       "    <tr>\n",
       "        <td>20140112130956</td>\n",
       "        <td>True</td>\n",
       "        <td>1</td>\n",
       "        <td>42.5</td>\n",
       "        <td>3</td>\n",
       "        <td>1</td>\n",
       "        <td>5</td>\n",
       "        <td>50</td>\n",
       "        <td>-2</td>\n",
       "        <td>0</td>\n",
       "        <td>0</td>\n",
       "        <td>2</td>\n",
       "        <td>1</td>\n",
       "        <td>-2</td>\n",
       "        <td>1</td>\n",
       "        <td>4</td>\n",
       "        <td>1</td>\n",
       "        <td>14</td>\n",
       "        <td>1</td>\n",
       "        <td>1</td>\n",
       "        <td>4661715</td>\n",
       "        <td>2</td>\n",
       "        <td>3</td>\n",
       "        <td>2</td>\n",
       "        <td>75</td>\n",
       "        <td>5</td>\n",
       "        <td>-1</td>\n",
       "        <td>-1</td>\n",
       "        <td>-1</td>\n",
       "        <td>2</td>\n",
       "        <td>1</td>\n",
       "        <td>-1</td>\n",
       "        <td>-1</td>\n",
       "        <td>-1</td>\n",
       "        <td>340</td>\n",
       "        <td>2</td>\n",
       "        <td>0</td>\n",
       "    </tr>\n",
       "    <tr>\n",
       "        <td>20140302140854</td>\n",
       "        <td>True</td>\n",
       "        <td>1</td>\n",
       "        <td>43.599998</td>\n",
       "        <td>3</td>\n",
       "        <td>1</td>\n",
       "        <td>5</td>\n",
       "        <td>120</td>\n",
       "        <td>0</td>\n",
       "        <td>0</td>\n",
       "        <td>1</td>\n",
       "        <td>-1</td>\n",
       "        <td>1</td>\n",
       "        <td>2</td>\n",
       "        <td>2</td>\n",
       "        <td>-1</td>\n",
       "        <td>1</td>\n",
       "        <td>3</td>\n",
       "        <td>2</td>\n",
       "        <td>1</td>\n",
       "        <td>8119375</td>\n",
       "        <td>2</td>\n",
       "        <td>3</td>\n",
       "        <td>2</td>\n",
       "        <td>74</td>\n",
       "        <td>5</td>\n",
       "        <td>-1</td>\n",
       "        <td>-1</td>\n",
       "        <td>-1</td>\n",
       "        <td>2</td>\n",
       "        <td>2</td>\n",
       "        <td>-1</td>\n",
       "        <td>-1</td>\n",
       "        <td>-1</td>\n",
       "        <td>340</td>\n",
       "        <td>2</td>\n",
       "        <td>0</td>\n",
       "    </tr>\n",
       "    <tr>\n",
       "        <td>20140403141911</td>\n",
       "        <td>True</td>\n",
       "        <td>2</td>\n",
       "        <td>51.700001</td>\n",
       "        <td>3</td>\n",
       "        <td>5</td>\n",
       "        <td>-1</td>\n",
       "        <td>60</td>\n",
       "        <td>2</td>\n",
       "        <td>0</td>\n",
       "        <td>1</td>\n",
       "        <td>-1</td>\n",
       "        <td>2</td>\n",
       "        <td>1</td>\n",
       "        <td>1</td>\n",
       "        <td>1</td>\n",
       "        <td>1</td>\n",
       "        <td>2</td>\n",
       "        <td>2</td>\n",
       "        <td>2</td>\n",
       "        <td>5197074</td>\n",
       "        <td>1</td>\n",
       "        <td>4</td>\n",
       "        <td>1</td>\n",
       "        <td>68</td>\n",
       "        <td>5</td>\n",
       "        <td>2</td>\n",
       "        <td>1</td>\n",
       "        <td>2</td>\n",
       "        <td>1</td>\n",
       "        <td>-1</td>\n",
       "        <td>2</td>\n",
       "        <td>1</td>\n",
       "        <td>2</td>\n",
       "        <td>340</td>\n",
       "        <td>2</td>\n",
       "        <td>0</td>\n",
       "    </tr>\n",
       "</table>"
      ],
      "text/plain": [
       "[(Decimal('20140403140670'), True, Decimal('2'), Decimal('43.599998'), Decimal('1'), Decimal('3'), Decimal('5'), Decimal('60'), Decimal('30'), Decimal('0'), Decimal('1'), Decimal('2'), Decimal('1'), Decimal('1'), Decimal('2'), Decimal('-1'), Decimal('1'), Decimal('15'), Decimal('1'), Decimal('1'), Decimal('4300922'), Decimal('2'), Decimal('3'), Decimal('2'), Decimal('74'), Decimal('5'), Decimal('1'), Decimal('-1'), Decimal('-1'), Decimal('2'), Decimal('1'), Decimal('-1'), Decimal('-1'), Decimal('-1'), Decimal('340'), Decimal('1'), Decimal('0')),\n",
       " (Decimal('20140403140731'), True, Decimal('1'), Decimal('53.200001'), Decimal('3'), Decimal('1'), Decimal('-1'), Decimal('45'), Decimal('15'), Decimal('0'), Decimal('1'), Decimal('-1'), Decimal('1'), Decimal('1'), Decimal('2'), Decimal('-1'), Decimal('1'), Decimal('3'), Decimal('2'), Decimal('1'), Decimal('3230588'), Decimal('1'), Decimal('3'), Decimal('1'), Decimal('67'), Decimal('5'), Decimal('-1'), Decimal('1'), Decimal('2'), Decimal('1'), Decimal('2'), Decimal('3'), Decimal('1'), Decimal('2'), Decimal('340'), Decimal('2'), Decimal('0')),\n",
       " (Decimal('20140302142086'), True, Decimal('2'), Decimal('46.099998'), Decimal('3'), Decimal('5'), Decimal('-1'), Decimal('30'), Decimal('0'), Decimal('0'), Decimal('0'), Decimal('-1'), Decimal('2'), Decimal('2'), Decimal('2'), Decimal('-1'), Decimal('1'), Decimal('1'), Decimal('2'), Decimal('1'), Decimal('2508998'), Decimal('2'), Decimal('4'), Decimal('1'), Decimal('72'), Decimal('5'), Decimal('2'), Decimal('1'), Decimal('2'), Decimal('1'), Decimal('-1'), Decimal('1'), Decimal('6'), Decimal('2'), Decimal('340'), Decimal('-1'), Decimal('0')),\n",
       " (Decimal('20140301141057'), True, Decimal('1'), Decimal('73.599998'), Decimal('3'), Decimal('1'), Decimal('5'), Decimal('55'), Decimal('0'), Decimal('0'), Decimal('1'), Decimal('-1'), Decimal('2'), Decimal('2'), Decimal('1'), Decimal('4'), Decimal('1'), Decimal('1'), Decimal('2'), Decimal('1'), Decimal('5869593'), Decimal('2'), Decimal('2'), Decimal('1'), Decimal('57'), Decimal('5'), Decimal('-1'), Decimal('1'), Decimal('2'), Decimal('1'), Decimal('-1'), Decimal('1'), Decimal('1'), Decimal('2'), Decimal('340'), Decimal('1'), Decimal('0')),\n",
       " (Decimal('20140302141278'), True, Decimal('2'), Decimal('47.400002'), Decimal('3'), Decimal('3'), Decimal('5'), Decimal('45'), Decimal('10'), Decimal('0'), Decimal('1'), Decimal('-1'), Decimal('2'), Decimal('1'), Decimal('2'), Decimal('-1'), Decimal('1'), Decimal('3'), Decimal('1'), Decimal('1'), Decimal('13500000'), Decimal('2'), Decimal('3'), Decimal('2'), Decimal('71'), Decimal('5'), Decimal('1'), Decimal('1'), Decimal('2'), Decimal('1'), Decimal('-1'), Decimal('-1'), Decimal('-1'), Decimal('2'), Decimal('340'), Decimal('2'), Decimal('0')),\n",
       " (Decimal('20140112130956'), True, Decimal('1'), Decimal('42.5'), Decimal('3'), Decimal('1'), Decimal('5'), Decimal('50'), Decimal('-2'), Decimal('0'), Decimal('0'), Decimal('2'), Decimal('1'), Decimal('-2'), Decimal('1'), Decimal('4'), Decimal('1'), Decimal('14'), Decimal('1'), Decimal('1'), Decimal('4661715'), Decimal('2'), Decimal('3'), Decimal('2'), Decimal('75'), Decimal('5'), Decimal('-1'), Decimal('-1'), Decimal('-1'), Decimal('2'), Decimal('1'), Decimal('-1'), Decimal('-1'), Decimal('-1'), Decimal('340'), Decimal('2'), Decimal('0')),\n",
       " (Decimal('20140302140854'), True, Decimal('1'), Decimal('43.599998'), Decimal('3'), Decimal('1'), Decimal('5'), Decimal('120'), Decimal('0'), Decimal('0'), Decimal('1'), Decimal('-1'), Decimal('1'), Decimal('2'), Decimal('2'), Decimal('-1'), Decimal('1'), Decimal('3'), Decimal('2'), Decimal('1'), Decimal('8119375'), Decimal('2'), Decimal('3'), Decimal('2'), Decimal('74'), Decimal('5'), Decimal('-1'), Decimal('-1'), Decimal('-1'), Decimal('2'), Decimal('2'), Decimal('-1'), Decimal('-1'), Decimal('-1'), Decimal('340'), Decimal('2'), Decimal('0')),\n",
       " (Decimal('20140403141911'), True, Decimal('2'), Decimal('51.700001'), Decimal('3'), Decimal('5'), Decimal('-1'), Decimal('60'), Decimal('2'), Decimal('0'), Decimal('1'), Decimal('-1'), Decimal('2'), Decimal('1'), Decimal('1'), Decimal('1'), Decimal('1'), Decimal('2'), Decimal('2'), Decimal('2'), Decimal('5197074'), Decimal('1'), Decimal('4'), Decimal('1'), Decimal('68'), Decimal('5'), Decimal('2'), Decimal('1'), Decimal('2'), Decimal('1'), Decimal('-1'), Decimal('2'), Decimal('1'), Decimal('2'), Decimal('340'), Decimal('2'), Decimal('0'))]"
      ]
     },
     "execution_count": 44,
     "metadata": {},
     "output_type": "execute_result"
    }
   ],
   "source": [
    "%%sql\n",
    "SELECT \n",
    "    *\n",
    "FROM ehresp_2014\n",
    "    WHERE (erbmi>30 AND eufastfdfrq>0)\n",
    "        ORDER BY\n",
    "            euwgt DESC\n",
    "    LIMIT 8;"
   ]
  },
  {
   "cell_type": "markdown",
   "metadata": {},
   "source": [
    "How many people eat/serve meat and use meat thermometer"
   ]
  },
  {
   "cell_type": "code",
   "execution_count": 48,
   "metadata": {},
   "outputs": [
    {
     "name": "stdout",
     "output_type": "stream",
     "text": [
      " * postgresql://localhost/postgres\n",
      "1 rows affected.\n"
     ]
    },
    {
     "data": {
      "text/html": [
       "<table>\n",
       "    <tr>\n",
       "        <th>count</th>\n",
       "    </tr>\n",
       "    <tr>\n",
       "        <td>846</td>\n",
       "    </tr>\n",
       "</table>"
      ],
      "text/plain": [
       "[(846,)]"
      ]
     },
     "execution_count": 48,
     "metadata": {},
     "output_type": "execute_result"
    }
   ],
   "source": [
    "%%sql\n",
    "SELECT \n",
    "    COUNT(tucaseid)\n",
    "FROM ehresp_2014\n",
    "    WHERE (eumeat=1 AND eutherm=1);"
   ]
  },
  {
   "cell_type": "markdown",
   "metadata": {},
   "source": [
    "Look for people who are under 100 lbs"
   ]
  },
  {
   "cell_type": "code",
   "execution_count": 46,
   "metadata": {},
   "outputs": [
    {
     "name": "stdout",
     "output_type": "stream",
     "text": [
      " * postgresql://localhost/postgres\n",
      "4 rows affected.\n"
     ]
    },
    {
     "data": {
      "text/html": [
       "<table>\n",
       "    <tr>\n",
       "        <th>tucaseid</th>\n",
       "        <th>tulineno</th>\n",
       "        <th>eeincome1</th>\n",
       "        <th>erbmi</th>\n",
       "        <th>erhhch</th>\n",
       "        <th>erincome</th>\n",
       "        <th>erspemch</th>\n",
       "        <th>ertpreat</th>\n",
       "        <th>ertseat</th>\n",
       "        <th>ethgt</th>\n",
       "        <th>etwgt</th>\n",
       "        <th>eudietsoda</th>\n",
       "        <th>eudrink</th>\n",
       "        <th>eueat</th>\n",
       "        <th>euexercise</th>\n",
       "        <th>euexfreq</th>\n",
       "        <th>eufastfd</th>\n",
       "        <th>eufastfdfrq</th>\n",
       "        <th>euffyday</th>\n",
       "        <th>eufdsit</th>\n",
       "        <th>eufinlwgt</th>\n",
       "        <th>eusnap</th>\n",
       "        <th>eugenhth</th>\n",
       "        <th>eugroshp</th>\n",
       "        <th>euhgt</th>\n",
       "        <th>euinclvl</th>\n",
       "        <th>euincome2</th>\n",
       "        <th>eumeat</th>\n",
       "        <th>eumilk</th>\n",
       "        <th>euprpmel</th>\n",
       "        <th>eusoda</th>\n",
       "        <th>eustores</th>\n",
       "        <th>eustreason</th>\n",
       "        <th>eutherm</th>\n",
       "        <th>euwgt</th>\n",
       "        <th>euwic</th>\n",
       "        <th>exincome1</th>\n",
       "    </tr>\n",
       "    <tr>\n",
       "        <td>20140101140063</td>\n",
       "        <td>True</td>\n",
       "        <td>-2</td>\n",
       "        <td>-1</td>\n",
       "        <td>3</td>\n",
       "        <td>-1</td>\n",
       "        <td>-1</td>\n",
       "        <td>0</td>\n",
       "        <td>0</td>\n",
       "        <td>0</td>\n",
       "        <td>-1</td>\n",
       "        <td>2</td>\n",
       "        <td>1</td>\n",
       "        <td>2</td>\n",
       "        <td>2</td>\n",
       "        <td>-1</td>\n",
       "        <td>2</td>\n",
       "        <td>-1</td>\n",
       "        <td>-1</td>\n",
       "        <td>1</td>\n",
       "        <td>2728880</td>\n",
       "        <td>2</td>\n",
       "        <td>2</td>\n",
       "        <td>1</td>\n",
       "        <td>64</td>\n",
       "        <td>5</td>\n",
       "        <td>-2</td>\n",
       "        <td>2</td>\n",
       "        <td>2</td>\n",
       "        <td>1</td>\n",
       "        <td>1</td>\n",
       "        <td>2</td>\n",
       "        <td>6</td>\n",
       "        <td>-1</td>\n",
       "        <td>-2</td>\n",
       "        <td>2</td>\n",
       "        <td>2</td>\n",
       "    </tr>\n",
       "    <tr>\n",
       "        <td>20140101140872</td>\n",
       "        <td>True</td>\n",
       "        <td>1</td>\n",
       "        <td>-1</td>\n",
       "        <td>3</td>\n",
       "        <td>1</td>\n",
       "        <td>5</td>\n",
       "        <td>0</td>\n",
       "        <td>10</td>\n",
       "        <td>0</td>\n",
       "        <td>-1</td>\n",
       "        <td>-1</td>\n",
       "        <td>1</td>\n",
       "        <td>1</td>\n",
       "        <td>1</td>\n",
       "        <td>4</td>\n",
       "        <td>2</td>\n",
       "        <td>-1</td>\n",
       "        <td>-1</td>\n",
       "        <td>1</td>\n",
       "        <td>8319956</td>\n",
       "        <td>2</td>\n",
       "        <td>4</td>\n",
       "        <td>3</td>\n",
       "        <td>65</td>\n",
       "        <td>5</td>\n",
       "        <td>-1</td>\n",
       "        <td>1</td>\n",
       "        <td>2</td>\n",
       "        <td>1</td>\n",
       "        <td>2</td>\n",
       "        <td>1</td>\n",
       "        <td>2</td>\n",
       "        <td>1</td>\n",
       "        <td>-3</td>\n",
       "        <td>2</td>\n",
       "        <td>0</td>\n",
       "    </tr>\n",
       "    <tr>\n",
       "        <td>20140101141672</td>\n",
       "        <td>True</td>\n",
       "        <td>2</td>\n",
       "        <td>-1</td>\n",
       "        <td>3</td>\n",
       "        <td>5</td>\n",
       "        <td>5</td>\n",
       "        <td>25</td>\n",
       "        <td>15</td>\n",
       "        <td>0</td>\n",
       "        <td>-1</td>\n",
       "        <td>1</td>\n",
       "        <td>1</td>\n",
       "        <td>1</td>\n",
       "        <td>2</td>\n",
       "        <td>-1</td>\n",
       "        <td>1</td>\n",
       "        <td>2</td>\n",
       "        <td>2</td>\n",
       "        <td>1</td>\n",
       "        <td>28200000</td>\n",
       "        <td>1</td>\n",
       "        <td>2</td>\n",
       "        <td>1</td>\n",
       "        <td>64</td>\n",
       "        <td>5</td>\n",
       "        <td>2</td>\n",
       "        <td>1</td>\n",
       "        <td>2</td>\n",
       "        <td>1</td>\n",
       "        <td>1</td>\n",
       "        <td>2</td>\n",
       "        <td>1</td>\n",
       "        <td>1</td>\n",
       "        <td>-5</td>\n",
       "        <td>1</td>\n",
       "        <td>0</td>\n",
       "    </tr>\n",
       "    <tr>\n",
       "        <td>20140101141837</td>\n",
       "        <td>True</td>\n",
       "        <td>-2</td>\n",
       "        <td>-1</td>\n",
       "        <td>3</td>\n",
       "        <td>-1</td>\n",
       "        <td>-1</td>\n",
       "        <td>150</td>\n",
       "        <td>0</td>\n",
       "        <td>-1</td>\n",
       "        <td>-1</td>\n",
       "        <td>-1</td>\n",
       "        <td>2</td>\n",
       "        <td>2</td>\n",
       "        <td>1</td>\n",
       "        <td>3</td>\n",
       "        <td>1</td>\n",
       "        <td>3</td>\n",
       "        <td>2</td>\n",
       "        <td>1</td>\n",
       "        <td>12400000</td>\n",
       "        <td>2</td>\n",
       "        <td>3</td>\n",
       "        <td>1</td>\n",
       "        <td>-2</td>\n",
       "        <td>5</td>\n",
       "        <td>-2</td>\n",
       "        <td>1</td>\n",
       "        <td>2</td>\n",
       "        <td>1</td>\n",
       "        <td>-1</td>\n",
       "        <td>1</td>\n",
       "        <td>3</td>\n",
       "        <td>2</td>\n",
       "        <td>-2</td>\n",
       "        <td>-1</td>\n",
       "        <td>2</td>\n",
       "    </tr>\n",
       "</table>"
      ],
      "text/plain": [
       "[(Decimal('20140101140063'), True, Decimal('-2'), Decimal('-1'), Decimal('3'), Decimal('-1'), Decimal('-1'), Decimal('0'), Decimal('0'), Decimal('0'), Decimal('-1'), Decimal('2'), Decimal('1'), Decimal('2'), Decimal('2'), Decimal('-1'), Decimal('2'), Decimal('-1'), Decimal('-1'), Decimal('1'), Decimal('2728880'), Decimal('2'), Decimal('2'), Decimal('1'), Decimal('64'), Decimal('5'), Decimal('-2'), Decimal('2'), Decimal('2'), Decimal('1'), Decimal('1'), Decimal('2'), Decimal('6'), Decimal('-1'), Decimal('-2'), Decimal('2'), Decimal('2')),\n",
       " (Decimal('20140101140872'), True, Decimal('1'), Decimal('-1'), Decimal('3'), Decimal('1'), Decimal('5'), Decimal('0'), Decimal('10'), Decimal('0'), Decimal('-1'), Decimal('-1'), Decimal('1'), Decimal('1'), Decimal('1'), Decimal('4'), Decimal('2'), Decimal('-1'), Decimal('-1'), Decimal('1'), Decimal('8319956'), Decimal('2'), Decimal('4'), Decimal('3'), Decimal('65'), Decimal('5'), Decimal('-1'), Decimal('1'), Decimal('2'), Decimal('1'), Decimal('2'), Decimal('1'), Decimal('2'), Decimal('1'), Decimal('-3'), Decimal('2'), Decimal('0')),\n",
       " (Decimal('20140101141672'), True, Decimal('2'), Decimal('-1'), Decimal('3'), Decimal('5'), Decimal('5'), Decimal('25'), Decimal('15'), Decimal('0'), Decimal('-1'), Decimal('1'), Decimal('1'), Decimal('1'), Decimal('2'), Decimal('-1'), Decimal('1'), Decimal('2'), Decimal('2'), Decimal('1'), Decimal('28200000'), Decimal('1'), Decimal('2'), Decimal('1'), Decimal('64'), Decimal('5'), Decimal('2'), Decimal('1'), Decimal('2'), Decimal('1'), Decimal('1'), Decimal('2'), Decimal('1'), Decimal('1'), Decimal('-5'), Decimal('1'), Decimal('0')),\n",
       " (Decimal('20140101141837'), True, Decimal('-2'), Decimal('-1'), Decimal('3'), Decimal('-1'), Decimal('-1'), Decimal('150'), Decimal('0'), Decimal('-1'), Decimal('-1'), Decimal('-1'), Decimal('2'), Decimal('2'), Decimal('1'), Decimal('3'), Decimal('1'), Decimal('3'), Decimal('2'), Decimal('1'), Decimal('12400000'), Decimal('2'), Decimal('3'), Decimal('1'), Decimal('-2'), Decimal('5'), Decimal('-2'), Decimal('1'), Decimal('2'), Decimal('1'), Decimal('-1'), Decimal('1'), Decimal('3'), Decimal('2'), Decimal('-2'), Decimal('-1'), Decimal('2'))]"
      ]
     },
     "execution_count": 46,
     "metadata": {},
     "output_type": "execute_result"
    }
   ],
   "source": [
    "%%sql\n",
    "SELECT \n",
    "    *  \n",
    "FROM ehresp_2014\n",
    "    WHERE (euwgt<100)\n",
    "        LIMIT 4;"
   ]
  },
  {
   "cell_type": "markdown",
   "metadata": {},
   "source": [
    "Now, add another columns corresponding to obesity classification\n",
    "- 0 for Not Obese\n",
    "- 1 for Obese"
   ]
  },
  {
   "cell_type": "markdown",
   "metadata": {},
   "source": [
    "### Select columns of interest and create a view table"
   ]
  },
  {
   "cell_type": "code",
   "execution_count": 8,
   "metadata": {},
   "outputs": [
    {
     "name": "stdout",
     "output_type": "stream",
     "text": [
      " * postgresql://localhost/postgres\n",
      "5 rows affected.\n"
     ]
    },
    {
     "data": {
      "text/html": [
       "<table>\n",
       "    <tr>\n",
       "        <th>ertpreat</th>\n",
       "        <th>ertseat</th>\n",
       "        <th>euexfreq</th>\n",
       "        <th>eufastfdfrq</th>\n",
       "        <th>eugenhth</th>\n",
       "        <th>erbmi</th>\n",
       "    </tr>\n",
       "    <tr>\n",
       "        <td>30</td>\n",
       "        <td>2</td>\n",
       "        <td>-1</td>\n",
       "        <td>-1</td>\n",
       "        <td>1</td>\n",
       "        <td>33.200001</td>\n",
       "    </tr>\n",
       "    <tr>\n",
       "        <td>45</td>\n",
       "        <td>14</td>\n",
       "        <td>-1</td>\n",
       "        <td>1</td>\n",
       "        <td>2</td>\n",
       "        <td>22.700001</td>\n",
       "    </tr>\n",
       "    <tr>\n",
       "        <td>60</td>\n",
       "        <td>0</td>\n",
       "        <td>-1</td>\n",
       "        <td>-1</td>\n",
       "        <td>5</td>\n",
       "        <td>49.400002</td>\n",
       "    </tr>\n",
       "    <tr>\n",
       "        <td>0</td>\n",
       "        <td>0</td>\n",
       "        <td>-1</td>\n",
       "        <td>-1</td>\n",
       "        <td>2</td>\n",
       "        <td>-1</td>\n",
       "    </tr>\n",
       "    <tr>\n",
       "        <td>65</td>\n",
       "        <td>0</td>\n",
       "        <td>5</td>\n",
       "        <td>-1</td>\n",
       "        <td>4</td>\n",
       "        <td>31</td>\n",
       "    </tr>\n",
       "</table>"
      ],
      "text/plain": [
       "[(Decimal('30'), Decimal('2'), Decimal('-1'), Decimal('-1'), Decimal('1'), Decimal('33.200001')),\n",
       " (Decimal('45'), Decimal('14'), Decimal('-1'), Decimal('1'), Decimal('2'), Decimal('22.700001')),\n",
       " (Decimal('60'), Decimal('0'), Decimal('-1'), Decimal('-1'), Decimal('5'), Decimal('49.400002')),\n",
       " (Decimal('0'), Decimal('0'), Decimal('-1'), Decimal('-1'), Decimal('2'), Decimal('-1')),\n",
       " (Decimal('65'), Decimal('0'), Decimal('5'), Decimal('-1'), Decimal('4'), Decimal('31'))]"
      ]
     },
     "execution_count": 8,
     "metadata": {},
     "output_type": "execute_result"
    }
   ],
   "source": [
    "%%sql \n",
    "SELECT \n",
    "    ertpreat, ertseat, euexfreq, eufastfdfrq, eugenhth, erbmi \n",
    "FROM ehresp_2014 \n",
    "    LIMIT 5;"
   ]
  },
  {
   "cell_type": "markdown",
   "metadata": {},
   "source": [
    "Create a VIEW table with columns of interest AND add another column based on conditionals "
   ]
  },
  {
   "cell_type": "code",
   "execution_count": 15,
   "metadata": {},
   "outputs": [
    {
     "name": "stdout",
     "output_type": "stream",
     "text": [
      " * postgresql://localhost/postgres\n",
      "Done.\n"
     ]
    },
    {
     "data": {
      "text/plain": [
       "[]"
      ]
     },
     "execution_count": 15,
     "metadata": {},
     "output_type": "execute_result"
    }
   ],
   "source": [
    "%%sql\n",
    "CREATE VIEW main_table AS (\n",
    "    SELECT ertpreat, ertseat, euexfreq, eufastfdfrq, eugenhth, erbmi,\n",
    "        CASE WHEN erbmi>30 THEN 'NotObese'\n",
    "                   ELSE 'Obese'\n",
    "        END\n",
    "    FROM ehresp_2014\n",
    "        -- NO LIMIT\n",
    "        );"
   ]
  },
  {
   "cell_type": "markdown",
   "metadata": {},
   "source": [
    "Check out the VIEW table"
   ]
  },
  {
   "cell_type": "code",
   "execution_count": 16,
   "metadata": {},
   "outputs": [
    {
     "name": "stdout",
     "output_type": "stream",
     "text": [
      " * postgresql://localhost/postgres\n",
      "5 rows affected.\n"
     ]
    },
    {
     "data": {
      "text/html": [
       "<table>\n",
       "    <tr>\n",
       "        <th>ertpreat</th>\n",
       "        <th>ertseat</th>\n",
       "        <th>euexfreq</th>\n",
       "        <th>eufastfdfrq</th>\n",
       "        <th>eugenhth</th>\n",
       "        <th>erbmi</th>\n",
       "        <th>case</th>\n",
       "    </tr>\n",
       "    <tr>\n",
       "        <td>30</td>\n",
       "        <td>2</td>\n",
       "        <td>-1</td>\n",
       "        <td>-1</td>\n",
       "        <td>1</td>\n",
       "        <td>33.200001</td>\n",
       "        <td>NotObese</td>\n",
       "    </tr>\n",
       "    <tr>\n",
       "        <td>45</td>\n",
       "        <td>14</td>\n",
       "        <td>-1</td>\n",
       "        <td>1</td>\n",
       "        <td>2</td>\n",
       "        <td>22.700001</td>\n",
       "        <td>Obese</td>\n",
       "    </tr>\n",
       "    <tr>\n",
       "        <td>60</td>\n",
       "        <td>0</td>\n",
       "        <td>-1</td>\n",
       "        <td>-1</td>\n",
       "        <td>5</td>\n",
       "        <td>49.400002</td>\n",
       "        <td>NotObese</td>\n",
       "    </tr>\n",
       "    <tr>\n",
       "        <td>0</td>\n",
       "        <td>0</td>\n",
       "        <td>-1</td>\n",
       "        <td>-1</td>\n",
       "        <td>2</td>\n",
       "        <td>-1</td>\n",
       "        <td>Obese</td>\n",
       "    </tr>\n",
       "    <tr>\n",
       "        <td>65</td>\n",
       "        <td>0</td>\n",
       "        <td>5</td>\n",
       "        <td>-1</td>\n",
       "        <td>4</td>\n",
       "        <td>31</td>\n",
       "        <td>NotObese</td>\n",
       "    </tr>\n",
       "</table>"
      ],
      "text/plain": [
       "[(Decimal('30'), Decimal('2'), Decimal('-1'), Decimal('-1'), Decimal('1'), Decimal('33.200001'), 'NotObese'),\n",
       " (Decimal('45'), Decimal('14'), Decimal('-1'), Decimal('1'), Decimal('2'), Decimal('22.700001'), 'Obese'),\n",
       " (Decimal('60'), Decimal('0'), Decimal('-1'), Decimal('-1'), Decimal('5'), Decimal('49.400002'), 'NotObese'),\n",
       " (Decimal('0'), Decimal('0'), Decimal('-1'), Decimal('-1'), Decimal('2'), Decimal('-1'), 'Obese'),\n",
       " (Decimal('65'), Decimal('0'), Decimal('5'), Decimal('-1'), Decimal('4'), Decimal('31'), 'NotObese')]"
      ]
     },
     "execution_count": 16,
     "metadata": {},
     "output_type": "execute_result"
    }
   ],
   "source": [
    "%%sql\n",
    "SELECT *\n",
    "FROM main_table\n",
    "    LIMIT 5;"
   ]
  },
  {
   "cell_type": "markdown",
   "metadata": {},
   "source": [
    "Renaming VIEW table column names, so that they are more intuitive"
   ]
  },
  {
   "cell_type": "code",
   "execution_count": 17,
   "metadata": {},
   "outputs": [
    {
     "name": "stdout",
     "output_type": "stream",
     "text": [
      " * postgresql://localhost/postgres\n",
      "Done.\n",
      "Done.\n",
      "Done.\n",
      "Done.\n",
      "Done.\n",
      "Done.\n",
      "(psycopg2.ProgrammingError) syntax error at or near \"case\"\n",
      "LINE 2:     RENAME COLUMN case\n",
      "                          ^\n",
      " [SQL: 'ALTER TABLE main_table\\n    RENAME COLUMN case\\n        TO obese;'] (Background on this error at: http://sqlalche.me/e/f405)\n"
     ]
    }
   ],
   "source": [
    "%%sql\n",
    "ALTER TABLE main_table\n",
    "    RENAME COLUMN ertpreat \n",
    "        TO timeEat;\n",
    "        \n",
    "ALTER TABLE main_table\n",
    "    RENAME COLUMN ertseat\n",
    "        TO timesnack;\n",
    "\n",
    "ALTER TABLE main_table\n",
    "    RENAME COLUMN euexfreq\n",
    "        TO exercisefreq;\n",
    "\n",
    "ALTER TABLE main_table\n",
    "    RENAME COLUMN eufastfdfrq\n",
    "        TO fastfdfreq;\n",
    "    \n",
    "ALTER TABLE main_table\n",
    "    RENAME COLUMN eugenhth\n",
    "        TO genhealth;\n",
    "        \n",
    "ALTER TABLE main_table \n",
    "    RENAME COLUMN erbmi\n",
    "        TO bmi;\n",
    "        \n",
    "ALTER TABLE main_table\n",
    "    RENAME COLUMN case\n",
    "        TO obese;"
   ]
  },
  {
   "cell_type": "markdown",
   "metadata": {},
   "source": [
    "Check the renamed column names in the main_table"
   ]
  },
  {
   "cell_type": "code",
   "execution_count": 37,
   "metadata": {},
   "outputs": [
    {
     "name": "stdout",
     "output_type": "stream",
     "text": [
      "   postgresql://localhost/\n",
      " * postgresql://localhost/postgres\n",
      "5 rows affected.\n"
     ]
    },
    {
     "data": {
      "text/html": [
       "<table>\n",
       "    <tr>\n",
       "        <th>timeeat</th>\n",
       "        <th>timesnack</th>\n",
       "        <th>exercisefreq</th>\n",
       "        <th>fastfdfreq</th>\n",
       "        <th>genhealth</th>\n",
       "        <th>bmi</th>\n",
       "    </tr>\n",
       "    <tr>\n",
       "        <td>30</td>\n",
       "        <td>2</td>\n",
       "        <td>-1</td>\n",
       "        <td>-1</td>\n",
       "        <td>1</td>\n",
       "        <td>33.200001</td>\n",
       "    </tr>\n",
       "    <tr>\n",
       "        <td>45</td>\n",
       "        <td>14</td>\n",
       "        <td>-1</td>\n",
       "        <td>1</td>\n",
       "        <td>2</td>\n",
       "        <td>22.700001</td>\n",
       "    </tr>\n",
       "    <tr>\n",
       "        <td>60</td>\n",
       "        <td>0</td>\n",
       "        <td>-1</td>\n",
       "        <td>-1</td>\n",
       "        <td>5</td>\n",
       "        <td>49.400002</td>\n",
       "    </tr>\n",
       "    <tr>\n",
       "        <td>0</td>\n",
       "        <td>0</td>\n",
       "        <td>-1</td>\n",
       "        <td>-1</td>\n",
       "        <td>2</td>\n",
       "        <td>-1</td>\n",
       "    </tr>\n",
       "    <tr>\n",
       "        <td>65</td>\n",
       "        <td>0</td>\n",
       "        <td>5</td>\n",
       "        <td>-1</td>\n",
       "        <td>4</td>\n",
       "        <td>31</td>\n",
       "    </tr>\n",
       "</table>"
      ],
      "text/plain": [
       "[(Decimal('30'), Decimal('2'), Decimal('-1'), Decimal('-1'), Decimal('1'), Decimal('33.200001')),\n",
       " (Decimal('45'), Decimal('14'), Decimal('-1'), Decimal('1'), Decimal('2'), Decimal('22.700001')),\n",
       " (Decimal('60'), Decimal('0'), Decimal('-1'), Decimal('-1'), Decimal('5'), Decimal('49.400002')),\n",
       " (Decimal('0'), Decimal('0'), Decimal('-1'), Decimal('-1'), Decimal('2'), Decimal('-1')),\n",
       " (Decimal('65'), Decimal('0'), Decimal('5'), Decimal('-1'), Decimal('4'), Decimal('31'))]"
      ]
     },
     "execution_count": 37,
     "metadata": {},
     "output_type": "execute_result"
    }
   ],
   "source": [
    "%%sql \n",
    "SELECT * \n",
    "    FROM main_table\n",
    "        LIMIT 5;"
   ]
  },
  {
   "cell_type": "markdown",
   "metadata": {},
   "source": [
    "### Extract VIEW table into pandas dataframe"
   ]
  },
  {
   "cell_type": "code",
   "execution_count": 38,
   "metadata": {},
   "outputs": [],
   "source": [
    "# local machine\n",
    "params = {\n",
    "    'host': '127.0.0.1',\n",
    "    'port': 5432\n",
    "}"
   ]
  },
  {
   "cell_type": "code",
   "execution_count": 39,
   "metadata": {},
   "outputs": [],
   "source": [
    "# Connect to database\n",
    "connection = connect(**params,dbname='postgres')\n",
    "cursor = connection.cursor()"
   ]
  },
  {
   "cell_type": "code",
   "execution_count": 44,
   "metadata": {},
   "outputs": [],
   "source": [
    "# move cursor and fetch table\n",
    "cursor.execute('SELECT * FROM main_table;')\n",
    "df = pd.DataFrame(data = cursor.fetchall(),\n",
    "                  columns = ['timeeat', 'timesnack','exercisefreq',\n",
    "                            'fastfdfreq','genhealth','bmi'])"
   ]
  },
  {
   "cell_type": "code",
   "execution_count": 45,
   "metadata": {},
   "outputs": [
    {
     "data": {
      "text/html": [
       "<div>\n",
       "<style scoped>\n",
       "    .dataframe tbody tr th:only-of-type {\n",
       "        vertical-align: middle;\n",
       "    }\n",
       "\n",
       "    .dataframe tbody tr th {\n",
       "        vertical-align: top;\n",
       "    }\n",
       "\n",
       "    .dataframe thead th {\n",
       "        text-align: right;\n",
       "    }\n",
       "</style>\n",
       "<table border=\"1\" class=\"dataframe\">\n",
       "  <thead>\n",
       "    <tr style=\"text-align: right;\">\n",
       "      <th></th>\n",
       "      <th>timeeat</th>\n",
       "      <th>timesnack</th>\n",
       "      <th>exercisefreq</th>\n",
       "      <th>fastfdfreq</th>\n",
       "      <th>genhealth</th>\n",
       "      <th>bmi</th>\n",
       "    </tr>\n",
       "  </thead>\n",
       "  <tbody>\n",
       "    <tr>\n",
       "      <th>0</th>\n",
       "      <td>30</td>\n",
       "      <td>2</td>\n",
       "      <td>-1</td>\n",
       "      <td>-1</td>\n",
       "      <td>1</td>\n",
       "      <td>33.200001</td>\n",
       "    </tr>\n",
       "    <tr>\n",
       "      <th>1</th>\n",
       "      <td>45</td>\n",
       "      <td>14</td>\n",
       "      <td>-1</td>\n",
       "      <td>1</td>\n",
       "      <td>2</td>\n",
       "      <td>22.700001</td>\n",
       "    </tr>\n",
       "    <tr>\n",
       "      <th>2</th>\n",
       "      <td>60</td>\n",
       "      <td>0</td>\n",
       "      <td>-1</td>\n",
       "      <td>-1</td>\n",
       "      <td>5</td>\n",
       "      <td>49.400002</td>\n",
       "    </tr>\n",
       "    <tr>\n",
       "      <th>3</th>\n",
       "      <td>0</td>\n",
       "      <td>0</td>\n",
       "      <td>-1</td>\n",
       "      <td>-1</td>\n",
       "      <td>2</td>\n",
       "      <td>-1</td>\n",
       "    </tr>\n",
       "    <tr>\n",
       "      <th>4</th>\n",
       "      <td>65</td>\n",
       "      <td>0</td>\n",
       "      <td>5</td>\n",
       "      <td>-1</td>\n",
       "      <td>4</td>\n",
       "      <td>31</td>\n",
       "    </tr>\n",
       "  </tbody>\n",
       "</table>\n",
       "</div>"
      ],
      "text/plain": [
       "  timeeat timesnack exercisefreq fastfdfreq genhealth        bmi\n",
       "0      30         2           -1         -1         1  33.200001\n",
       "1      45        14           -1          1         2  22.700001\n",
       "2      60         0           -1         -1         5  49.400002\n",
       "3       0         0           -1         -1         2         -1\n",
       "4      65         0            5         -1         4         31"
      ]
     },
     "execution_count": 45,
     "metadata": {},
     "output_type": "execute_result"
    }
   ],
   "source": [
    "df.head()"
   ]
  },
  {
   "cell_type": "markdown",
   "metadata": {},
   "source": [
    "- once it's in pandas dataframe, cleaning and modeling can be done as usual (see notebooks for Step2 and Step3)"
   ]
  },
  {
   "cell_type": "markdown",
   "metadata": {},
   "source": [
    "---"
   ]
  }
 ],
 "metadata": {
  "kernelspec": {
   "display_name": "Python 3",
   "language": "python",
   "name": "python3"
  },
  "language_info": {
   "codemirror_mode": {
    "name": "ipython",
    "version": 3
   },
   "file_extension": ".py",
   "mimetype": "text/x-python",
   "name": "python",
   "nbconvert_exporter": "python",
   "pygments_lexer": "ipython3",
   "version": "3.7.0"
  }
 },
 "nbformat": 4,
 "nbformat_minor": 2
}
