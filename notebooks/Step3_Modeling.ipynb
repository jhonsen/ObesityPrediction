{
 "cells": [
  {
   "cell_type": "markdown",
   "metadata": {},
   "source": [
    "## NOTEBOOK: Create and Evaluate Models"
   ]
  },
  {
   "cell_type": "markdown",
   "metadata": {},
   "source": [
    "Import libraries"
   ]
  },
  {
   "cell_type": "code",
   "execution_count": 155,
   "metadata": {},
   "outputs": [],
   "source": [
    "import pickle\n",
    "import pandas as pd\n",
    "import numpy as np\n",
    "import seaborn as sns\n",
    "import matplotlib.pyplot as plt\n",
    "\n",
    "from collections import Counter\n",
    "\n",
    "from sklearn.preprocessing import StandardScaler\n",
    "from sklearn.pipeline import make_pipeline\n",
    "from sklearn.linear_model import LogisticRegression\n",
    "from sklearn.ensemble import RandomForestClassifier\n",
    "from sklearn.model_selection import (train_test_split, GridSearchCV, \n",
    "                                     cross_validate, StratifiedKFold, \n",
    "                                     cross_val_score)\n",
    "from sklearn.metrics import (accuracy_score, recall_score, confusion_matrix,\n",
    "                             roc_curve, auc, make_scorer)\n",
    "\n",
    "from imblearn.over_sampling import RandomOverSampler\n",
    "from imblearn.pipeline import Pipeline as imbPipeline\n",
    "\n",
    "import warnings\n",
    "warnings.simplefilter('ignore')"
   ]
  },
  {
   "cell_type": "markdown",
   "metadata": {},
   "source": [
    "Import pickled data"
   ]
  },
  {
   "cell_type": "code",
   "execution_count": 3,
   "metadata": {},
   "outputs": [],
   "source": [
    "with open('../data/pickled/cleanedData.pkl', 'rb') as fin:\n",
    "    df = pickle.load(fin)"
   ]
  },
  {
   "cell_type": "markdown",
   "metadata": {},
   "source": [
    "### Splitting TRAIN-TEST Sets (w/ stratification)"
   ]
  },
  {
   "cell_type": "code",
   "execution_count": 5,
   "metadata": {},
   "outputs": [],
   "source": [
    "# Define features and target \n",
    "data = df.iloc[:,:-1]\n",
    "labels = df.iloc[:,-1]"
   ]
  },
  {
   "cell_type": "code",
   "execution_count": 6,
   "metadata": {},
   "outputs": [],
   "source": [
    "X_train, X_test, y_train,y_test =train_test_split(data, labels, \n",
    "                                                  test_size=0.20,\n",
    "                                                 stratify=labels)"
   ]
  },
  {
   "cell_type": "code",
   "execution_count": 7,
   "metadata": {},
   "outputs": [
    {
     "name": "stdout",
     "output_type": "stream",
     "text": [
      "37.517520635415046\n",
      "37.484433374844336\n"
     ]
    }
   ],
   "source": [
    "# Check that stratification works\n",
    "print(len(y_train[y_train==1])*100 / len(y_train[y_train==0]))\n",
    "print(len(y_test[y_test==1])*100 / len(y_test[y_test==0]))"
   ]
  },
  {
   "cell_type": "markdown",
   "metadata": {},
   "source": [
    "### Get a 'baseline' Logistic Regresion and Random Forest models with 10-fold CV\n",
    "Use Pipeline to:\n",
    "- Oversample \n",
    "- Scaling (for Logistic Reg)\n",
    "- Instantiate classifiers"
   ]
  },
  {
   "cell_type": "code",
   "execution_count": 106,
   "metadata": {},
   "outputs": [],
   "source": [
    "# Use stratified Kfold\n",
    "skf = StratifiedKFold(n_splits=10, random_state=7)"
   ]
  },
  {
   "cell_type": "code",
   "execution_count": 124,
   "metadata": {},
   "outputs": [
    {
     "name": "stderr",
     "output_type": "stream",
     "text": [
      "[Parallel(n_jobs=1)]: Using backend SequentialBackend with 1 concurrent workers.\n",
      "[Parallel(n_jobs=1)]: Done  10 out of  10 | elapsed:    0.2s finished\n"
     ]
    }
   ],
   "source": [
    "pipe_lr = imbPipeline([\n",
    "    ('oversample', RandomOverSampler(random_state=0)),\n",
    "    ('scaling', StandardScaler()),\n",
    "    ('logreg', LogisticRegression())\n",
    "    ])\n",
    "\n",
    "eval_lr = cross_validate(pipe_lr, X_train, y_train, \n",
    "                         cv=skf, \n",
    "                         scoring=('accuracy','recall'),\n",
    "                         verbose=1,\n",
    "                         return_train_score=True)"
   ]
  },
  {
   "cell_type": "code",
   "execution_count": 146,
   "metadata": {},
   "outputs": [
    {
     "name": "stderr",
     "output_type": "stream",
     "text": [
      "[Parallel(n_jobs=1)]: Using backend SequentialBackend with 1 concurrent workers.\n",
      "[Parallel(n_jobs=1)]: Done  10 out of  10 | elapsed:    0.9s finished\n"
     ]
    }
   ],
   "source": [
    "pipe_rf = imbPipeline([\n",
    "    ('oversample', RandomOverSampler(random_state=0)),\n",
    "    ('RandomForest', RandomForestClassifier())\n",
    "    ])\n",
    "eval_rf = cross_validate(pipe_rf, X_train, y_train, \n",
    "                         cv=skf, \n",
    "                         scoring=('accuracy','recall'),\n",
    "                         verbose=1,\n",
    "                         return_train_score=True)\n"
   ]
  },
  {
   "cell_type": "code",
   "execution_count": 147,
   "metadata": {},
   "outputs": [],
   "source": [
    "# Collect CV results into a dataframe\n",
    "df_lr = pd.DataFrame(np.c_[['LogisticRegression' for _ in range(10)],\n",
    "                          np.arange(1, 11), \n",
    "                          eval_lr['test_accuracy'],\n",
    "                          eval_lr['test_recall']\n",
    "                         ], \n",
    "                   columns = ['model','fold_id','accuracy','recall'])\n",
    "df_rf = pd.DataFrame(np.c_[['RandomForest' for _ in range(10)],\n",
    "                          np.arange(1, 11), \n",
    "                          eval_rf['test_accuracy'],\n",
    "                          eval_rf['test_recall']\n",
    "                         ], \n",
    "                   columns = ['model','fold_id','accuracy','recall'])\n",
    "df_both = pd.concat([df_lr, df_rf], axis=0)\n",
    "df_both['accuracy'] = df_both['accuracy'].astype(float)\n",
    "df_both['recall'] = df_both['recall'].astype(float)"
   ]
  },
  {
   "cell_type": "code",
   "execution_count": 148,
   "metadata": {},
   "outputs": [
    {
     "data": {
      "text/html": [
       "<div>\n",
       "<style scoped>\n",
       "    .dataframe tbody tr th:only-of-type {\n",
       "        vertical-align: middle;\n",
       "    }\n",
       "\n",
       "    .dataframe tbody tr th {\n",
       "        vertical-align: top;\n",
       "    }\n",
       "\n",
       "    .dataframe thead th {\n",
       "        text-align: right;\n",
       "    }\n",
       "</style>\n",
       "<table border=\"1\" class=\"dataframe\">\n",
       "  <thead>\n",
       "    <tr style=\"text-align: right;\">\n",
       "      <th></th>\n",
       "      <th>accuracy</th>\n",
       "      <th>recall</th>\n",
       "    </tr>\n",
       "    <tr>\n",
       "      <th>model</th>\n",
       "      <th></th>\n",
       "      <th></th>\n",
       "    </tr>\n",
       "  </thead>\n",
       "  <tbody>\n",
       "    <tr>\n",
       "      <th>LogisticRegression</th>\n",
       "      <td>0.638052</td>\n",
       "      <td>0.660455</td>\n",
       "    </tr>\n",
       "    <tr>\n",
       "      <th>RandomForest</th>\n",
       "      <td>0.642808</td>\n",
       "      <td>0.398501</td>\n",
       "    </tr>\n",
       "  </tbody>\n",
       "</table>\n",
       "</div>"
      ],
      "text/plain": [
       "                    accuracy    recall\n",
       "model                                 \n",
       "LogisticRegression  0.638052  0.660455\n",
       "RandomForest        0.642808  0.398501"
      ]
     },
     "execution_count": 148,
     "metadata": {},
     "output_type": "execute_result"
    }
   ],
   "source": [
    "# Checkout the result\n",
    "df_both.groupby('model')[['accuracy','recall']].mean().sort_values(by='recall',ascending=False)"
   ]
  },
  {
   "cell_type": "code",
   "execution_count": 300,
   "metadata": {},
   "outputs": [
    {
     "data": {
      "image/png": "[encoded data removed]",
      "text/plain": [
       "<Figure size 864x432 with 2 Axes>"
      ]
     },
     "metadata": {
      "needs_background": "light"
     },
     "output_type": "display_data"
    }
   ],
   "source": [
    "# Plot Accuracy and Recall\n",
    "scores = ['accuracy','recall']\n",
    "fig, axes = plt.subplots(1,2,figsize=(12,6))\n",
    "\n",
    "for i in range(2):\n",
    "    sns.boxplot(x = 'model', y= scores[i], data=df_both, ax=axes[i] )\n",
    "    sns.stripplot(x= 'model', y= scores[i], data=df_both,\n",
    "                    jitter=True, edgecolor=\"gray\", alpha = 0.4,linewidth=2,\n",
    "                           ax=axes[i])\n",
    "    axes[i].axes.set_title(\"Model Comparison (w/ 10-fold CV)\",fontsize=14)\n",
    "    axes[i].set_xlabel(\"Model\",fontsize=20)\n",
    "    axes[i].set_ylabel(scores[i],fontsize=20)\n",
    "    axes[i].tick_params(labelsize=15)\n",
    "    vals = axes[i].get_yticks()\n",
    "    axes[i].set_yticklabels(['{:,.2}'.format(x) for x in vals])\n",
    "    plt.tight_layout()\n",
    "fig.savefig('../docs/figures/baselineModels.png');"
   ]
  },
  {
   "cell_type": "markdown",
   "metadata": {},
   "source": [
    "- Random Forest performs about the same as Logistic Regression  \n",
    "- Random Forest has lower variance and slightly higher accuracy (median)\n",
    "- Logistic Regression has better recall"
   ]
  },
  {
   "cell_type": "markdown",
   "metadata": {},
   "source": [
    "---"
   ]
  },
  {
   "cell_type": "markdown",
   "metadata": {},
   "source": [
    "### Grid Searching Hyper-parameters"
   ]
  },
  {
   "cell_type": "code",
   "execution_count": 192,
   "metadata": {},
   "outputs": [],
   "source": [
    "# Grid-Searching parameters\n",
    "\n",
    "param_lr   = {'logreg__dual'      : [True, False],\n",
    "              'logreg__max_iter'  : [100, 150, 300, 500],\n",
    "              'logreg__C'         : [1.0, 2.0, 3.0, 4.0, 10, 15 ]\n",
    "            }\n",
    "\n",
    "param_rf = {'RandomForest__n_estimators'      : [50, 80, 200, 300],\n",
    "             'RandomForest__max_features'     : ['auto','sqrt','log2'],\n",
    "             'RandomForest__max_depth'        : [2, 3, 4, 5],\n",
    "             'RandomForest__min_samples_split': [2, 3, 4],\n",
    "             'RandomForest__min_samples_leaf' : [1, 2, 4],\n",
    "             'RandomForest__bootstrap'        : [True, False],\n",
    "            }\n",
    "\n",
    "scoring = {'REC': make_scorer(recall_score), 'ACC': make_scorer(accuracy_score)}"
   ]
  },
  {
   "cell_type": "code",
   "execution_count": 193,
   "metadata": {},
   "outputs": [],
   "source": [
    "# Setup grid search\n",
    "\n",
    "grid_lr = GridSearchCV(pipe_lr,param_grid=param_lr,\n",
    "                       return_train_score=True, \n",
    "                       n_jobs=-1, scoring=scoring,\n",
    "                       verbose=1, \n",
    "                       refit='REC',\n",
    "                      cv=skf)\n",
    "grid_rf = GridSearchCV(pipe_rf, param_grid=param_rf,\n",
    "                       return_train_score=True,\n",
    "                       refit='REC',\n",
    "                       verbose=1,\n",
    "                       n_jobs=-1, scoring=scoring,\n",
    "                      cv=skf)"
   ]
  },
  {
   "cell_type": "code",
   "execution_count": 204,
   "metadata": {},
   "outputs": [
    {
     "data": {
      "text/plain": [
       "GridSearchCV(cv=StratifiedKFold(n_splits=10, random_state=7, shuffle=False),\n",
       "       error_score='raise-deprecating',\n",
       "       estimator=Pipeline(memory=None,\n",
       "     steps=[('oversample', RandomOverSampler(random_state=0, ratio=None, return_indices=False,\n",
       "         sampling_strategy='auto')), ('RandomForest', RandomForestClassifier(bootstrap=True, class_weight=None, criterion='gini',\n",
       "            max_depth=None, max_features='auto', max_leaf_nodes=None,\n",
       "          ...obs=None,\n",
       "            oob_score=False, random_state=None, verbose=0,\n",
       "            warm_start=False))]),\n",
       "       fit_params=None, iid='warn', n_jobs=-1,\n",
       "       param_grid={'RandomForest__n_estimators': [50, 80, 200, 300], 'RandomForest__max_features': ['auto', 'sqrt', 'log2'], 'RandomForest__max_depth': [2, 3, 4, 5], 'RandomForest__min_samples_split': [2, 3, 4], 'RandomForest__min_samples_leaf': [1, 2, 4], 'RandomForest__bootstrap': [True, False]},\n",
       "       pre_dispatch='2*n_jobs', refit='REC', return_train_score=True,\n",
       "       scoring={'REC': make_scorer(recall_score), 'ACC': make_scorer(accuracy_score)},\n",
       "       verbose=0)"
      ]
     },
     "execution_count": 204,
     "metadata": {},
     "output_type": "execute_result"
    }
   ],
   "source": [
    "# # Run GRID\n",
    "# grid_lr.fit(X_train, y_train)\n",
    "# grid_rf.fit(X_train, y_train)"
   ]
  },
  {
   "cell_type": "code",
   "execution_count": 230,
   "metadata": {},
   "outputs": [],
   "source": [
    "# # Instantiate best Estimator\n",
    "# Opt_lr = grid_lr.best_estimator_\n",
    "# Opt_rf = grid_rf.best_estimator_\n",
    "\n",
    "# # Pickle objects\n",
    "# with open('../data/gridsearched_lr.pkl','wb') as fin:\n",
    "#     pickle.dump(Opt_lr, fin)\n",
    "# with open('../data/gridsearched_rf.pkl','wb') as fin:\n",
    "#     pickle.dump(Opt_rf, fin)"
   ]
  },
  {
   "cell_type": "code",
   "execution_count": 231,
   "metadata": {},
   "outputs": [
    {
     "name": "stdout",
     "output_type": "stream",
     "text": [
      "Pipeline(memory=None,\n",
      "     steps=[('oversample', RandomOverSampler(random_state=0, ratio=None, return_indices=False,\n",
      "         sampling_strategy='auto')), ('scaling', StandardScaler(copy=True, with_mean=True, with_std=True)), ('logreg', LogisticRegression(C=10, class_weight=None, dual=True, fit_intercept=True,\n",
      "          intercept_scaling=1, max_iter=100, multi_class='warn',\n",
      "          n_jobs=None, penalty='l2', random_state=None, solver='warn',\n",
      "          tol=0.0001, verbose=0, warm_start=False))]) Pipeline(memory=None,\n",
      "     steps=[('oversample', RandomOverSampler(random_state=0, ratio=None, return_indices=False,\n",
      "         sampling_strategy='auto')), ('RandomForest', RandomForestClassifier(bootstrap=True, class_weight=None, criterion='gini',\n",
      "            max_depth=2, max_features='auto', max_leaf_nodes=None,\n",
      "            m...obs=None,\n",
      "            oob_score=False, random_state=None, verbose=0,\n",
      "            warm_start=False))])\n"
     ]
    }
   ],
   "source": [
    "# UnPickle best estimators objects\n",
    "\n",
    "with open('../data/pickled/gridsearched_lr.pkl','rb') as fout:\n",
    "    Opt_lr = pickle.load(fout)\n",
    "with open('../data/pickled/gridsearched_rf.pkl','rb') as fout:\n",
    "    Opt_rf = pickle.load(fout)\n",
    "    \n",
    "print(Opt_lr, Opt_rf)"
   ]
  },
  {
   "cell_type": "code",
   "execution_count": 232,
   "metadata": {},
   "outputs": [
    {
     "name": "stdout",
     "output_type": "stream",
     "text": [
      "Grid Search Result for LogReg\n",
      "best parameters:      {'logreg__C': 10, 'logreg__dual': True, 'logreg__max_iter': 100}\n",
      "best score     : 0.66\n",
      "mean accuracy  : 0.64\n",
      "mean recall    : 0.66\n",
      "\n",
      "Grid Search Result for RandomForest\n",
      "best parameters:      {'RandomForest__bootstrap': True, 'RandomForest__max_depth': 2, 'RandomForest__max_features': 'auto', 'RandomForest__min_samples_leaf': 4, 'RandomForest__min_samples_split': 3, 'RandomForest__n_estimators': 80}\n",
      "best score     : 0.69\n",
      "mean accuracy  : 0.62\n",
      "mean recall    : 0.68\n",
      "\n"
     ]
    }
   ],
   "source": [
    "# Print results of the best_estimators\n",
    "\n",
    "Opt_models= [grid_lr, grid_rf]\n",
    "model_names = ['LogReg','RandomForest']\n",
    "for i in range(2):\n",
    "    print('Grid Search Result for %s' %(model_names[i]))\n",
    "    print('best parameters:     ', Opt_models[i].best_params_)\n",
    "    print('best score     : %.2f' %Opt_models[i].best_score_)\n",
    "    print('mean accuracy  : %.2f' %Opt_models[i].cv_results_['mean_test_ACC'].mean())\n",
    "    print('mean recall    : %.2f' %Opt_models[i].cv_results_['mean_test_REC'].mean())\n",
    "    print()"
   ]
  },
  {
   "cell_type": "markdown",
   "metadata": {},
   "source": [
    "### Compare: Grid-Optimized Logistic Regression and Random Forest"
   ]
  },
  {
   "cell_type": "code",
   "execution_count": 214,
   "metadata": {},
   "outputs": [
    {
     "name": "stderr",
     "output_type": "stream",
     "text": [
      "[Parallel(n_jobs=1)]: Using backend SequentialBackend with 1 concurrent workers.\n",
      "[Parallel(n_jobs=1)]: Done  10 out of  10 | elapsed:    1.1s finished\n"
     ]
    }
   ],
   "source": [
    "pipe_lr_opt = imbPipeline([\n",
    "    ('oversample', RandomOverSampler(random_state=0)),\n",
    "    ('scaling', StandardScaler()),\n",
    "    ('logreg', LogisticRegression(C=10, dual=True, max_iter=100))\n",
    "    ])\n",
    "\n",
    "eval_lr_opt = cross_validate(pipe_lr_opt, X_train, y_train, \n",
    "                         cv=skf, \n",
    "                         scoring=('accuracy','recall'),\n",
    "                         verbose=1,\n",
    "                         return_train_score=True)"
   ]
  },
  {
   "cell_type": "code",
   "execution_count": 218,
   "metadata": {},
   "outputs": [
    {
     "name": "stderr",
     "output_type": "stream",
     "text": [
      "[Parallel(n_jobs=1)]: Using backend SequentialBackend with 1 concurrent workers.\n",
      "[Parallel(n_jobs=1)]: Done  10 out of  10 | elapsed:    2.0s finished\n"
     ]
    }
   ],
   "source": [
    "pipe_rf_opt = imbPipeline([\n",
    "    ('oversample', RandomOverSampler(random_state=0)),\n",
    "    ('RandomForest', RandomForestClassifier(bootstrap=True, max_depth=2,\n",
    "                                           max_features='auto',min_samples_leaf=4,\n",
    "                                           min_samples_split=3,n_estimators=80))\n",
    "    ])\n",
    "eval_rf_opt = cross_validate(pipe_rf_opt, X_train, y_train, \n",
    "                         cv=skf, \n",
    "                         scoring=('accuracy','recall'),\n",
    "                         verbose=1,\n",
    "                         return_train_score=True)\n"
   ]
  },
  {
   "cell_type": "code",
   "execution_count": 219,
   "metadata": {},
   "outputs": [],
   "source": [
    "# Collect CV results into a dataframe\n",
    "df_lr_opt = pd.DataFrame(np.c_[['LogisticRegression' for _ in range(10)],\n",
    "                          np.arange(1, 11), \n",
    "                          eval_lr_opt['test_accuracy'],\n",
    "                          eval_lr_opt['test_recall']\n",
    "                         ], \n",
    "                   columns = ['model','fold_id','accuracy','recall'])\n",
    "df_rf_opt = pd.DataFrame(np.c_[['RandomForest' for _ in range(10)],\n",
    "                          np.arange(1, 11), \n",
    "                          eval_rf_opt['test_accuracy'],\n",
    "                          eval_rf_opt['test_recall']\n",
    "                         ], \n",
    "                   columns = ['model','fold_id','accuracy','recall'])\n",
    "df_both_opt = pd.concat([df_lr_opt, df_rf_opt], axis=0)\n",
    "df_both_opt['accuracy'] = df_both_opt['accuracy'].astype(float)\n",
    "df_both_opt['recall'] = df_both_opt['recall'].astype(float)"
   ]
  },
  {
   "cell_type": "code",
   "execution_count": 220,
   "metadata": {},
   "outputs": [
    {
     "data": {
      "text/html": [
       "<div>\n",
       "<style scoped>\n",
       "    .dataframe tbody tr th:only-of-type {\n",
       "        vertical-align: middle;\n",
       "    }\n",
       "\n",
       "    .dataframe tbody tr th {\n",
       "        vertical-align: top;\n",
       "    }\n",
       "\n",
       "    .dataframe thead th {\n",
       "        text-align: right;\n",
       "    }\n",
       "</style>\n",
       "<table border=\"1\" class=\"dataframe\">\n",
       "  <thead>\n",
       "    <tr style=\"text-align: right;\">\n",
       "      <th></th>\n",
       "      <th>accuracy</th>\n",
       "      <th>recall</th>\n",
       "    </tr>\n",
       "    <tr>\n",
       "      <th>model</th>\n",
       "      <th></th>\n",
       "      <th></th>\n",
       "    </tr>\n",
       "  </thead>\n",
       "  <tbody>\n",
       "    <tr>\n",
       "      <th>RandomForest</th>\n",
       "      <td>0.619821</td>\n",
       "      <td>0.685349</td>\n",
       "    </tr>\n",
       "    <tr>\n",
       "      <th>LogisticRegression</th>\n",
       "      <td>0.637488</td>\n",
       "      <td>0.654213</td>\n",
       "    </tr>\n",
       "  </tbody>\n",
       "</table>\n",
       "</div>"
      ],
      "text/plain": [
       "                    accuracy    recall\n",
       "model                                 \n",
       "RandomForest        0.619821  0.685349\n",
       "LogisticRegression  0.637488  0.654213"
      ]
     },
     "execution_count": 220,
     "metadata": {},
     "output_type": "execute_result"
    }
   ],
   "source": [
    "# Checkout the result\n",
    "df_both_opt.groupby('model')[['accuracy','recall']].mean().sort_values(by='recall',ascending=False)"
   ]
  },
  {
   "cell_type": "code",
   "execution_count": 297,
   "metadata": {},
   "outputs": [
    {
     "data": {
      "image/png": "[encoded data removed]",
      "text/plain": [
       "<Figure size 864x432 with 2 Axes>"
      ]
     },
     "metadata": {
      "needs_background": "light"
     },
     "output_type": "display_data"
    }
   ],
   "source": [
    "# Plot Accuracy and Recall\n",
    "scores = ['accuracy','recall']\n",
    "fig, axes = plt.subplots(1,2,figsize=(12,6))\n",
    "\n",
    "for i in range(2):\n",
    "    sns.boxplot(x = 'model', y= scores[i], data=df_both_opt, ax=axes[i] )\n",
    "    sns.stripplot(x= 'model', y= scores[i], data=df_both_opt,\n",
    "                    jitter=True, edgecolor=\"gray\", alpha = 0.4,linewidth=2,\n",
    "                           ax=axes[i])\n",
    "    axes[i].axes.set_title(\"Model Comparison (w/ 10-fold CV)\",fontsize=14)\n",
    "    axes[i].set_xlabel(\"Model\",fontsize=20)\n",
    "    axes[i].set_ylabel(scores[i],fontsize=20)\n",
    "    axes[i].tick_params(labelsize=15)\n",
    "    vals = axes[i].get_yticks()\n",
    "    axes[i].set_yticklabels(['{:,.2}'.format(x) for x in vals])\n",
    "    axes[i].set_ylim((0.5,0.8))\n",
    "    plt.tight_layout()\n",
    "fig.savefig('../docs/figures/GridoptimizedModels.png');"
   ]
  },
  {
   "cell_type": "markdown",
   "metadata": {},
   "source": [
    "- Logistic Regression has higher accuracy, but \n",
    "- Random Forest has higher recall. \n",
    "- For this system, **recall** should be more important because we want to make sure that people with obesity is correctly classified"
   ]
  },
  {
   "cell_type": "markdown",
   "metadata": {},
   "source": [
    "---"
   ]
  },
  {
   "cell_type": "markdown",
   "metadata": {},
   "source": [
    "---"
   ]
  },
  {
   "cell_type": "markdown",
   "metadata": {},
   "source": [
    "### Using Optimized-LogReg and RandomForest to predict on the TEST set"
   ]
  },
  {
   "cell_type": "markdown",
   "metadata": {},
   "source": [
    "#### Plotting ROC curves for both models"
   ]
  },
  {
   "cell_type": "code",
   "execution_count": 246,
   "metadata": {},
   "outputs": [],
   "source": [
    "# Make pipelines\n",
    "pipelines = [ \n",
    "    ['LogReg', imbPipeline([\n",
    "                ('oversample', RandomOverSampler(random_state=0)),\n",
    "                ('scaling', StandardScaler()),\n",
    "                ('logreg', LogisticRegression(C=10, dual=True, max_iter=100))\n",
    "                            ])],\n",
    "    ['RandFor', imbPipeline([\n",
    "            ('oversample', RandomOverSampler(random_state=0)),\n",
    "            ('RandomForest', RandomForestClassifier(bootstrap=True, max_depth=2,\n",
    "                                           max_features='auto',min_samples_leaf=4,\n",
    "                                           min_samples_split=3,n_estimators=80))\n",
    "                        ])]\n",
    "    ]\n",
    "    "
   ]
  },
  {
   "cell_type": "code",
   "execution_count": 307,
   "metadata": {},
   "outputs": [
    {
     "data": {
      "image/png": "[encoded data removed]",
      "text/plain": [
       "<Figure size 576x432 with 1 Axes>"
      ]
     },
     "metadata": {
      "needs_background": "light"
     },
     "output_type": "display_data"
    }
   ],
   "source": [
    "# ROC Curves\n",
    "fig = plt.figure(figsize=(8,6))\n",
    "ax = fig.add_subplot(1, 1, 1)\n",
    "\n",
    "for name, pipeline in pipelines:\n",
    "    pipeline.fit(X_train, y_train)\n",
    "    proba_test = pipeline.predict_proba(X_test)\n",
    "    predict_test = proba_test[:,1]\n",
    "    fpr_test, tpr_test, thresholds_test = roc_curve(y_test, predict_test)\n",
    "    roc_auc_test = auc(fpr_test, tpr_test)\n",
    "\n",
    "    plt.plot(fpr_test, tpr_test, linestyle='-',\n",
    "             label='{} (area = %0.2f)'.format(name) %roc_auc_test, lw=2)\n",
    "\n",
    "plt.plot([0, 1], [0, 1], linestyle='--', lw=2, color='k', label='Luck')\n",
    "\n",
    "# make nice plotting\n",
    "plt.xticks(fontsize=14)\n",
    "plt.yticks(fontsize=14)\n",
    "plt.xlim([-0.01, 1])\n",
    "plt.ylim([0, 1])\n",
    "plt.xlabel('False Positive Rate', fontsize=14)\n",
    "plt.ylabel('True Positive Rate', fontsize=14)\n",
    "plt.title('ROC of TEST set', fontsize=14)\n",
    "\n",
    "plt.legend(loc=\"lower right\", fontsize=12)\n",
    "\n",
    "plt.show()\n",
    "fig.savefig('../docs/figures/ROCcurveTEST.png');"
   ]
  },
  {
   "cell_type": "markdown",
   "metadata": {},
   "source": [
    "#### Plot Confusion Matrix"
   ]
  },
  {
   "cell_type": "code",
   "execution_count": 309,
   "metadata": {},
   "outputs": [
    {
     "name": "stdout",
     "output_type": "stream",
     "text": [
      "\n",
      "For LogReg\n",
      "Accuracy: 0.65\n",
      "Recall  : 0.62\n",
      "\n",
      "For RandFor\n",
      "Accuracy: 0.63\n",
      "Recall  : 0.68\n"
     ]
    },
    {
     "data": {
      "image/png": "[encoded data removed]",
      "text/plain": [
       "<Figure size 864x288 with 4 Axes>"
      ]
     },
     "metadata": {
      "needs_background": "light"
     },
     "output_type": "display_data"
    }
   ],
   "source": [
    "# Confusion Matrix\n",
    "fig, axes = plt.subplots(1,2,figsize=(12,4))\n",
    "names=['LogReg','RandomFor']\n",
    "\n",
    "for ind,(name,pipeline) in enumerate(pipelines):\n",
    "    pipeline.fit(X_train, y_train)\n",
    "    y_predicted_test = pipeline.predict(X_test)\n",
    "    print()\n",
    "    print(f'For {name}')\n",
    "    print('Accuracy: %.2f' %accuracy_score(y_test, y_predicted_test))\n",
    "    print('Recall  : %.2f' %recall_score(y_test, y_predicted_test))\n",
    "    sns.heatmap(confusion_matrix(y_test, y_predicted_test), \n",
    "                annot=True,\n",
    "                fmt='d', annot_kws={'size':16}, \n",
    "                ax=axes[ind])\n",
    "    axes[ind].set_ylabel('True', fontsize=12)\n",
    "    axes[ind].set_xlabel('Predicted', fontsize=12)\n",
    "    axes[ind].set_title(f'Confusion Matrix for {name}')\n",
    "    axes[ind].set_yticklabels(['Not Obese', 'Obese'], rotation=0, fontsize=12)\n",
    "    axes[ind].set_xticklabels(['Not Obese', 'Obese'], rotation=0, fontsize=12)    \n",
    "    plt.tight_layout()\n",
    "    fig.savefig(f'../docs/figures/ConfusionMat_{names[ind]}.png')\n",
    "plt.show();\n"
   ]
  },
  {
   "cell_type": "markdown",
   "metadata": {},
   "source": [
    "Conclusion:\n",
    "- Much work is still needed to improve the models, since the accuracy is only ~64%.\n",
    "- Though the two models perform similarly in terms of accuracy, the **Random Forest** has a slightly **higher recall** \n",
    "- The false negative for Random Forest, 191, is lower than that for Logistic Regression, 223. This means 32 people are potentially saved (if this was a disease-diagnosis scenario). So, training the dataset using Random Forest seems reasonable (see Step 4 notebook)."
   ]
  },
  {
   "cell_type": "markdown",
   "metadata": {},
   "source": [
    "---"
   ]
  },
  {
   "cell_type": "markdown",
   "metadata": {},
   "source": [
    "---"
   ]
  },
  {
   "cell_type": "markdown",
   "metadata": {},
   "source": [
    "### Train the entire dataset for deployment"
   ]
  },
  {
   "cell_type": "code",
   "execution_count": 289,
   "metadata": {},
   "outputs": [],
   "source": [
    "# Train dataset using Random Forest\n",
    "deployment_model = pipelines[1][1].fit(data, labels)"
   ]
  },
  {
   "cell_type": "code",
   "execution_count": 291,
   "metadata": {},
   "outputs": [],
   "source": [
    "# Pickle the model\n",
    "with open('../data/pickled/FinalModel.pkl','wb') as fout:\n",
    "    pickle.dump(deployment_model, fout)"
   ]
  },
  {
   "cell_type": "markdown",
   "metadata": {},
   "source": [
    "---"
   ]
  },
  {
   "cell_type": "markdown",
   "metadata": {},
   "source": [
    "---"
   ]
  }
 ],
 "metadata": {
  "kernelspec": {
   "display_name": "Python 3",
   "language": "python",
   "name": "python3"
  },
  "language_info": {
   "codemirror_mode": {
    "name": "ipython",
    "version": 3
   },
   "file_extension": ".py",
   "mimetype": "text/x-python",
   "name": "python",
   "nbconvert_exporter": "python",
   "pygments_lexer": "ipython3",
   "version": "3.7.0"
  }
 },
 "nbformat": 4,
 "nbformat_minor": 2
}
